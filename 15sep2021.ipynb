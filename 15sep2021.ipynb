{
 "cells": [
  {
   "cell_type": "markdown",
   "id": "84f34a41",
   "metadata": {},
   "source": [
    "## Python Operators\n",
    "    - def:operators are used to perform operation on variables and values\n",
    "    - ex:print(10+20)\n",
    " #### 7 types of operators:\n",
    "       * 1)Arithematic operators\n",
    "       * 2)assignment operators\n",
    "       * 3)comarision operators\n",
    "       * 4)logical operators\n",
    "       * 5)Identity operators\n",
    "       * 6)Membership operators\n",
    "       * 7)Bitwise operators"
   ]
  },
  {
   "cell_type": "code",
   "execution_count": 1,
   "id": "7b1b55bc",
   "metadata": {},
   "outputs": [
    {
     "name": "stdout",
     "output_type": "stream",
     "text": [
      "30\n"
     ]
    }
   ],
   "source": [
    "print(10+20)"
   ]
  },
  {
   "cell_type": "code",
   "execution_count": 2,
   "id": "29a9bff1",
   "metadata": {},
   "outputs": [
    {
     "data": {
      "text/plain": [
       "-14"
      ]
     },
     "execution_count": 2,
     "metadata": {},
     "output_type": "execute_result"
    }
   ],
   "source": [
    "a=10\n",
    "b=24\n",
    "a-b"
   ]
  },
  {
   "cell_type": "markdown",
   "id": "4027eae1",
   "metadata": {},
   "source": [
    "### arithematic operators:\n",
    "  - def: It is used to perform common mathematical operations\n",
    "  - (+,-,*,/,%,**,//)"
   ]
  },
  {
   "cell_type": "code",
   "execution_count": 3,
   "id": "98d4691d",
   "metadata": {},
   "outputs": [
    {
     "name": "stdout",
     "output_type": "stream",
     "text": [
      "45\n",
      "15\n",
      "450\n",
      "2.0\n",
      "0\n",
      "27000\n",
      "2\n"
     ]
    }
   ],
   "source": [
    "a=30\n",
    "b=15\n",
    "print(a+b)   #addition\n",
    "print(a-b)   #subtraction\n",
    "print(a*b)   #multiplication\n",
    "print(a/b)   #division\n",
    "print(a%b)   #modulo division\n",
    "print(a**3)  #expotentation\n",
    "print(a//b)  #floor division"
   ]
  },
  {
   "cell_type": "code",
   "execution_count": 5,
   "id": "a57e48b4",
   "metadata": {},
   "outputs": [
    {
     "name": "stdout",
     "output_type": "stream",
     "text": [
      "4.5\n",
      "4\n"
     ]
    }
   ],
   "source": [
    "print(9/2)\n",
    "print(9//2)"
   ]
  },
  {
   "cell_type": "markdown",
   "id": "f51ffd22",
   "metadata": {},
   "source": [
    "### assignment operators:\n",
    "  - def: These operators are used to assign the value to the variable\n",
    "  - (=,+=,-=,*=,/=,%=,**=,//=)"
   ]
  },
  {
   "cell_type": "code",
   "execution_count": 8,
   "id": "eec33074",
   "metadata": {},
   "outputs": [
    {
     "name": "stdout",
     "output_type": "stream",
     "text": [
      "65\n",
      "20\n"
     ]
    }
   ],
   "source": [
    "p=34\n",
    "a=20\n",
    "b=45\n",
    "a+=b  #a=a+b -->20=20+45=65\n",
    "print(a)\n",
    "a-=b  #a=a-b -->65=65-45=20\n",
    "print(a)"
   ]
  },
  {
   "cell_type": "markdown",
   "id": "6533f8bb",
   "metadata": {},
   "source": [
    "### comparision operators:\n",
    "   - def:To compare between two values..It returns the boolean values(True or False)\n",
    "   - (==,<,<=,>,>=,!=)"
   ]
  },
  {
   "cell_type": "code",
   "execution_count": 12,
   "id": "bbf29909",
   "metadata": {},
   "outputs": [
    {
     "name": "stdout",
     "output_type": "stream",
     "text": [
      "False\n",
      "False\n",
      "False\n",
      "True\n",
      "True\n",
      "True\n"
     ]
    }
   ],
   "source": [
    "m=45\n",
    "n=37\n",
    "print(m==n)\n",
    "print(m<n)\n",
    "print(m<=n)\n",
    "print(m>n)\n",
    "print(m>=n)\n",
    "print(m!=n)"
   ]
  },
  {
   "cell_type": "markdown",
   "id": "04b706c0",
   "metadata": {},
   "source": [
    "### Logical operators:\n",
    "   - def: To check the 2 or more conditions at a time...It returns True or False\n",
    "   - (and, or, not)"
   ]
  },
  {
   "cell_type": "code",
   "execution_count": 15,
   "id": "21097333",
   "metadata": {},
   "outputs": [
    {
     "name": "stdout",
     "output_type": "stream",
     "text": [
      "True\n",
      "True\n",
      "False\n"
     ]
    }
   ],
   "source": [
    "p=5\n",
    "print(p>4 and p<10) #True and True\n",
    "print(p>2 or p<1)\n",
    "print(not(p>2 or p<1))"
   ]
  },
  {
   "cell_type": "markdown",
   "id": "9b38095a",
   "metadata": {},
   "source": [
    "### Identity operators:\n",
    "    - def: To compare between two objects\n",
    "    - (is, is not)"
   ]
  },
  {
   "cell_type": "code",
   "execution_count": 17,
   "id": "5fa104e5",
   "metadata": {},
   "outputs": [
    {
     "name": "stdout",
     "output_type": "stream",
     "text": [
      "False\n",
      "True\n"
     ]
    }
   ],
   "source": [
    "a='ab'\n",
    "b='cd'\n",
    "print(a is b)\n",
    "print(a is not b)"
   ]
  },
  {
   "cell_type": "markdown",
   "id": "9a4d378b",
   "metadata": {},
   "source": [
    "### Membership operators:\n",
    "   - def:It is used to test if a sequence is present in an object\n",
    "   - (in, not in)"
   ]
  },
  {
   "cell_type": "code",
   "execution_count": 22,
   "id": "ff25bbc9",
   "metadata": {},
   "outputs": [
    {
     "name": "stdout",
     "output_type": "stream",
     "text": [
      "True\n",
      "False\n",
      "False\n",
      "True\n"
     ]
    }
   ],
   "source": [
    "s1='apssdc'\n",
    "print('s' in s1 )\n",
    "print('k' in s1)\n",
    "print('d' not in s1)\n",
    "print('z' not in s1)"
   ]
  },
  {
   "cell_type": "markdown",
   "id": "53e34ded",
   "metadata": {},
   "source": [
    "### Bitwise operators:\n",
    "   - def:It is used to convert numbers in the format of binary(0's and 1's)\n",
    "   - &(and),|(or),^(x-or),~(negation),<<(left shift),>>(right shift)"
   ]
  },
  {
   "cell_type": "code",
   "execution_count": null,
   "id": "872eaccb",
   "metadata": {},
   "outputs": [],
   "source": [
    "8 4 2 1\n",
    "0 1 1 1\n",
    "a=7  #0111\n",
    "b=10 #1010\n",
    "c=13 #1101"
   ]
  },
  {
   "cell_type": "code",
   "execution_count": 7,
   "id": "27fc8c9a",
   "metadata": {},
   "outputs": [
    {
     "name": "stdout",
     "output_type": "stream",
     "text": [
      "0\n",
      "6\n"
     ]
    }
   ],
   "source": [
    "a=4 #0100         #0100           #0100\n",
    "b=2 #0010         #0010           #0010\n",
    "print(a&b)        #-----          #----\n",
    "print(a|b)        #0000           #0110\n",
    "                  #8421           #8421"
   ]
  },
  {
   "cell_type": "code",
   "execution_count": 10,
   "id": "b530c38b",
   "metadata": {},
   "outputs": [
    {
     "name": "stdout",
     "output_type": "stream",
     "text": [
      "0\n",
      "6\n",
      "6\n"
     ]
    }
   ],
   "source": [
    "a=4\n",
    "b=2\n",
    "print(a&b)                #0100\n",
    "print(a|b)                #0010\n",
    "print(a^b)                #0110\n",
    "                          #8421"
   ]
  },
  {
   "cell_type": "code",
   "execution_count": 12,
   "id": "ad1e5447",
   "metadata": {},
   "outputs": [
    {
     "name": "stdout",
     "output_type": "stream",
     "text": [
      "-5\n"
     ]
    }
   ],
   "source": [
    "print(~a)      -(a)\n",
    "                -(0100)\n",
    "                -(0100+1)\n",
    "                0100\n",
    "                   1\n",
    "                #-----\n",
    "                # -(0101)\n",
    "                # -(5)"
   ]
  },
  {
   "cell_type": "code",
   "execution_count": 13,
   "id": "e4c1c2d1",
   "metadata": {},
   "outputs": [
    {
     "name": "stdout",
     "output_type": "stream",
     "text": [
      "8\n"
     ]
    }
   ],
   "source": [
    "print(a<<1)         #0100\n",
    "                    #1000\n",
    "                    #8421"
   ]
  },
  {
   "cell_type": "code",
   "execution_count": 14,
   "id": "9b41c8a3",
   "metadata": {},
   "outputs": [
    {
     "name": "stdout",
     "output_type": "stream",
     "text": [
      "1\n"
     ]
    }
   ],
   "source": [
    "print(a>>2)          #0100\n",
    "                     #0001\n",
    "                     #8421"
   ]
  },
  {
   "cell_type": "code",
   "execution_count": null,
   "id": "76d759a9",
   "metadata": {},
   "outputs": [],
   "source": []
  },
  {
   "cell_type": "code",
   "execution_count": null,
   "id": "98dfc79e",
   "metadata": {},
   "outputs": [],
   "source": []
  },
  {
   "cell_type": "code",
   "execution_count": null,
   "id": "a22dfbd0",
   "metadata": {},
   "outputs": [],
   "source": []
  },
  {
   "cell_type": "code",
   "execution_count": null,
   "id": "32eb9cc9",
   "metadata": {},
   "outputs": [],
   "source": []
  },
  {
   "cell_type": "code",
   "execution_count": null,
   "id": "f975c391",
   "metadata": {},
   "outputs": [],
   "source": []
  },
  {
   "cell_type": "code",
   "execution_count": null,
   "id": "3385e167",
   "metadata": {},
   "outputs": [],
   "source": []
  },
  {
   "cell_type": "code",
   "execution_count": null,
   "id": "45c35318",
   "metadata": {},
   "outputs": [],
   "source": []
  },
  {
   "cell_type": "code",
   "execution_count": null,
   "id": "d9bf8c57",
   "metadata": {},
   "outputs": [],
   "source": []
  },
  {
   "cell_type": "code",
   "execution_count": null,
   "id": "c5f3499d",
   "metadata": {},
   "outputs": [],
   "source": []
  }
 ],
 "metadata": {
  "kernelspec": {
   "display_name": "Python 3",
   "language": "python",
   "name": "python3"
  },
  "language_info": {
   "codemirror_mode": {
    "name": "ipython",
    "version": 3
   },
   "file_extension": ".py",
   "mimetype": "text/x-python",
   "name": "python",
   "nbconvert_exporter": "python",
   "pygments_lexer": "ipython3",
   "version": "3.8.8"
  }
 },
 "nbformat": 4,
 "nbformat_minor": 5
}
