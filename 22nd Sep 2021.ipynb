{
 "cells": [
  {
   "cell_type": "markdown",
   "id": "bcda8181",
   "metadata": {},
   "source": [
    "## Tuple:\n",
    " - It is a collection of different data types\n",
    " - Tuple is defined as ()\n",
    " - Tuple is imutable(not changable)\n",
    " - Each and every element is seperated by comma(,)\n",
    " - Accessing elements from the tuple using indexing or slicing\n",
    " - It allows duplicates"
   ]
  },
  {
   "cell_type": "markdown",
   "id": "7461044a",
   "metadata": {},
   "source": [
    "#### How to create a tuple"
   ]
  },
  {
   "cell_type": "code",
   "execution_count": 1,
   "id": "fdffb86d",
   "metadata": {},
   "outputs": [
    {
     "name": "stdout",
     "output_type": "stream",
     "text": [
      "()\n",
      "<class 'tuple'>\n"
     ]
    }
   ],
   "source": [
    "mytuple=()\n",
    "print(mytuple)\n",
    "print(type(mytuple))"
   ]
  },
  {
   "cell_type": "code",
   "execution_count": 2,
   "id": "7a6931ca",
   "metadata": {},
   "outputs": [
    {
     "name": "stdout",
     "output_type": "stream",
     "text": [
      "(12, 3, 4, 5, 6, 7)\n",
      "<class 'tuple'>\n"
     ]
    }
   ],
   "source": [
    "t1=(12,3,4,5,6,7)\n",
    "print(t1)\n",
    "print(type(t1))"
   ]
  },
  {
   "cell_type": "code",
   "execution_count": 3,
   "id": "b7881d6c",
   "metadata": {},
   "outputs": [
    {
     "name": "stdout",
     "output_type": "stream",
     "text": [
      "(29, 36.0, 'python', 'APSSDC', 'apssdc', 'APSSDC')\n",
      "<class 'tuple'>\n"
     ]
    }
   ],
   "source": [
    "t2=(29,36.0,\"python\",\"APSSDC\",\"apssdc\",\"APSSDC\")\n",
    "# It supports duplicate values also supports different data types\n",
    "print(t2)\n",
    "print(type(t2))"
   ]
  },
  {
   "cell_type": "code",
   "execution_count": 4,
   "id": "7eb765ca",
   "metadata": {},
   "outputs": [
    {
     "name": "stdout",
     "output_type": "stream",
     "text": [
      "12\n",
      "92\n",
      "5\n",
      "[5, 6, 6, 6, 7, 7, 8, 8, 13, 34, 45, 92]\n",
      "237\n"
     ]
    }
   ],
   "source": [
    "t3=(13,45,6,7,8,92,34,5,6,6,7,8)\n",
    "print(len(t3))\n",
    "print(max(t3))\n",
    "print(min(t3))\n",
    "print(sorted(t3))\n",
    "print(sum(t3))"
   ]
  },
  {
   "cell_type": "code",
   "execution_count": 5,
   "id": "9d3b9ee4",
   "metadata": {},
   "outputs": [
    {
     "ename": "NameError",
     "evalue": "name 't' is not defined",
     "output_type": "error",
     "traceback": [
      "\u001b[1;31m---------------------------------------------------------------------------\u001b[0m",
      "\u001b[1;31mNameError\u001b[0m                                 Traceback (most recent call last)",
      "\u001b[1;32m<ipython-input-5-f4694455460c>\u001b[0m in \u001b[0;36m<module>\u001b[1;34m\u001b[0m\n\u001b[1;32m----> 1\u001b[1;33m \u001b[0mt\u001b[0m\u001b[1;33m[\u001b[0m\u001b[1;34m'cse'\u001b[0m\u001b[1;33m]\u001b[0m\u001b[1;33m=\u001b[0m\u001b[1;34m'it'\u001b[0m\u001b[1;33m\u001b[0m\u001b[1;33m\u001b[0m\u001b[0m\n\u001b[0m",
      "\u001b[1;31mNameError\u001b[0m: name 't' is not defined"
     ]
    }
   ],
   "source": [
    "# example for imutable\n",
    "t['cse']='it'"
   ]
  },
  {
   "cell_type": "code",
   "execution_count": 6,
   "id": "179f0a5f",
   "metadata": {},
   "outputs": [
    {
     "name": "stdout",
     "output_type": "stream",
     "text": [
      "('cse', 12, 15, 'ece', 'civil', 12.9, 221)\n",
      "7\n"
     ]
    }
   ],
   "source": [
    "t=('cse',12,15,'ece','civil',12.9,221)\n",
    "print(t)\n",
    "print(len(t))"
   ]
  },
  {
   "cell_type": "code",
   "execution_count": 8,
   "id": "018b3321",
   "metadata": {},
   "outputs": [
    {
     "name": "stdout",
     "output_type": "stream",
     "text": [
      "cse\n",
      "15\n",
      "221\n"
     ]
    }
   ],
   "source": [
    "print(t[0])\n",
    "print(t[2])\n",
    "print(t[-1])"
   ]
  },
  {
   "cell_type": "code",
   "execution_count": 9,
   "id": "16b91c74",
   "metadata": {},
   "outputs": [
    {
     "name": "stdout",
     "output_type": "stream",
     "text": [
      "(12, 15, 'ece', 'civil', 12.9)\n"
     ]
    }
   ],
   "source": [
    "print(t[1:6])"
   ]
  },
  {
   "cell_type": "code",
   "execution_count": 10,
   "id": "11d7d596",
   "metadata": {},
   "outputs": [
    {
     "name": "stdout",
     "output_type": "stream",
     "text": [
      "['__add__', '__class__', '__contains__', '__delattr__', '__dir__', '__doc__', '__eq__', '__format__', '__ge__', '__getattribute__', '__getitem__', '__getnewargs__', '__gt__', '__hash__', '__init__', '__init_subclass__', '__iter__', '__le__', '__len__', '__lt__', '__mul__', '__ne__', '__new__', '__reduce__', '__reduce_ex__', '__repr__', '__rmul__', '__setattr__', '__sizeof__', '__str__', '__subclasshook__', 'count', 'index']\n"
     ]
    }
   ],
   "source": [
    "print(dir(tuple))"
   ]
  },
  {
   "cell_type": "code",
   "execution_count": 14,
   "id": "b2a78ba9",
   "metadata": {},
   "outputs": [
    {
     "name": "stdout",
     "output_type": "stream",
     "text": [
      "('cse', 12, 15, 'ece', 'civil', 12.9, 221)\n",
      "1\n"
     ]
    }
   ],
   "source": [
    "# count()\n",
    "print(t)\n",
    "print(t.count('cse'))"
   ]
  },
  {
   "cell_type": "code",
   "execution_count": 15,
   "id": "a4fdb771",
   "metadata": {},
   "outputs": [
    {
     "data": {
      "text/plain": [
       "(1, 3, 2, 4, 5, 6, 3, 5)"
      ]
     },
     "execution_count": 15,
     "metadata": {},
     "output_type": "execute_result"
    }
   ],
   "source": [
    "t2=(1,3,2,4,5,6,3,5)\n",
    "t2"
   ]
  },
  {
   "cell_type": "code",
   "execution_count": 16,
   "id": "d2384661",
   "metadata": {},
   "outputs": [
    {
     "data": {
      "text/plain": [
       "2"
      ]
     },
     "execution_count": 16,
     "metadata": {},
     "output_type": "execute_result"
    }
   ],
   "source": [
    "t2.count(3)"
   ]
  },
  {
   "cell_type": "code",
   "execution_count": 19,
   "id": "1e7c71c6",
   "metadata": {},
   "outputs": [
    {
     "name": "stdout",
     "output_type": "stream",
     "text": [
      "('cse', 12, 15, 'ece', 'civil', 12.9, 221)\n"
     ]
    },
    {
     "data": {
      "text/plain": [
       "0"
      ]
     },
     "execution_count": 19,
     "metadata": {},
     "output_type": "execute_result"
    }
   ],
   "source": [
    "# index()\n",
    "print(t)\n",
    "t.index('cse')"
   ]
  },
  {
   "cell_type": "code",
   "execution_count": 20,
   "id": "7e0ddb3f",
   "metadata": {},
   "outputs": [
    {
     "data": {
      "text/plain": [
       "5"
      ]
     },
     "execution_count": 20,
     "metadata": {},
     "output_type": "execute_result"
    }
   ],
   "source": [
    "t.index(12.9)"
   ]
  },
  {
   "cell_type": "markdown",
   "id": "1492f2f8",
   "metadata": {},
   "source": [
    "## Dictionaries\n",
    "- stores collection of various types of data\n",
    "- dictionaries are ordered and mutable(changable)\n",
    "- dictionaries have pair of keys and values which seperated with \":\"\n",
    "- keys are act as index of values in dictionaries\n",
    "- keys in dictionary are unique\n",
    "- it is represented with flower brackets. Ex: dict={key:value} "
   ]
  },
  {
   "cell_type": "code",
   "execution_count": 21,
   "id": "a57629cf",
   "metadata": {},
   "outputs": [],
   "source": [
    "dic={'Name':'raju','Id':221,'Age':34,'Grade':'B'}"
   ]
  },
  {
   "cell_type": "code",
   "execution_count": 22,
   "id": "6fe53dec",
   "metadata": {},
   "outputs": [
    {
     "data": {
      "text/plain": [
       "{'Name': 'raju', 'Id': 221, 'Age': 34, 'Grade': 'B'}"
      ]
     },
     "execution_count": 22,
     "metadata": {},
     "output_type": "execute_result"
    }
   ],
   "source": [
    "dic"
   ]
  },
  {
   "cell_type": "code",
   "execution_count": 23,
   "id": "9670b854",
   "metadata": {},
   "outputs": [
    {
     "data": {
      "text/plain": [
       "221"
      ]
     },
     "execution_count": 23,
     "metadata": {},
     "output_type": "execute_result"
    }
   ],
   "source": [
    "dic['Id']"
   ]
  },
  {
   "cell_type": "code",
   "execution_count": 24,
   "id": "539272d4",
   "metadata": {},
   "outputs": [
    {
     "data": {
      "text/plain": [
       "'raju'"
      ]
     },
     "execution_count": 24,
     "metadata": {},
     "output_type": "execute_result"
    }
   ],
   "source": [
    "dic['Name']"
   ]
  },
  {
   "cell_type": "code",
   "execution_count": 25,
   "id": "c3639dd3",
   "metadata": {},
   "outputs": [
    {
     "data": {
      "text/plain": [
       "34"
      ]
     },
     "execution_count": 25,
     "metadata": {},
     "output_type": "execute_result"
    }
   ],
   "source": [
    "dic['Age']"
   ]
  },
  {
   "cell_type": "code",
   "execution_count": 26,
   "id": "03b8aa0e",
   "metadata": {},
   "outputs": [
    {
     "data": {
      "text/plain": [
       "'B'"
      ]
     },
     "execution_count": 26,
     "metadata": {},
     "output_type": "execute_result"
    }
   ],
   "source": [
    "dic['Grade']"
   ]
  },
  {
   "cell_type": "code",
   "execution_count": 27,
   "id": "48d74c7e",
   "metadata": {},
   "outputs": [
    {
     "name": "stdout",
     "output_type": "stream",
     "text": [
      "['__class__', '__contains__', '__delattr__', '__delitem__', '__dir__', '__doc__', '__eq__', '__format__', '__ge__', '__getattribute__', '__getitem__', '__gt__', '__hash__', '__init__', '__init_subclass__', '__iter__', '__le__', '__len__', '__lt__', '__ne__', '__new__', '__reduce__', '__reduce_ex__', '__repr__', '__reversed__', '__setattr__', '__setitem__', '__sizeof__', '__str__', '__subclasshook__', 'clear', 'copy', 'fromkeys', 'get', 'items', 'keys', 'pop', 'popitem', 'setdefault', 'update', 'values']\n"
     ]
    }
   ],
   "source": [
    "print(dir(dict))"
   ]
  },
  {
   "cell_type": "code",
   "execution_count": 28,
   "id": "2fca8d4e",
   "metadata": {},
   "outputs": [
    {
     "data": {
      "text/plain": [
       "34"
      ]
     },
     "execution_count": 28,
     "metadata": {},
     "output_type": "execute_result"
    }
   ],
   "source": [
    "# get()\n",
    "dic.get('Age')"
   ]
  },
  {
   "cell_type": "code",
   "execution_count": 30,
   "id": "fc757a11",
   "metadata": {},
   "outputs": [
    {
     "data": {
      "text/plain": [
       "dict_keys(['Name', 'Id', 'Age', 'Grade'])"
      ]
     },
     "execution_count": 30,
     "metadata": {},
     "output_type": "execute_result"
    }
   ],
   "source": [
    "# keys()\n",
    "dic.keys()\n"
   ]
  },
  {
   "cell_type": "code",
   "execution_count": 31,
   "id": "78ac71e8",
   "metadata": {},
   "outputs": [
    {
     "data": {
      "text/plain": [
       "dict_values(['raju', 221, 34, 'B'])"
      ]
     },
     "execution_count": 31,
     "metadata": {},
     "output_type": "execute_result"
    }
   ],
   "source": [
    "# values()\n",
    "dic.values()"
   ]
  },
  {
   "cell_type": "code",
   "execution_count": 32,
   "id": "a3c4bfac",
   "metadata": {},
   "outputs": [
    {
     "data": {
      "text/plain": [
       "dict_items([('Name', 'raju'), ('Id', 221), ('Age', 34), ('Grade', 'B')])"
      ]
     },
     "execution_count": 32,
     "metadata": {},
     "output_type": "execute_result"
    }
   ],
   "source": [
    "# items()\n",
    "dic.items()"
   ]
  },
  {
   "cell_type": "code",
   "execution_count": 33,
   "id": "2fc43b5f",
   "metadata": {},
   "outputs": [],
   "source": [
    "# update()\n",
    "dic.update({'Marks':50})"
   ]
  },
  {
   "cell_type": "code",
   "execution_count": 34,
   "id": "3dfcf9bc",
   "metadata": {},
   "outputs": [
    {
     "data": {
      "text/plain": [
       "{'Name': 'raju', 'Id': 221, 'Age': 34, 'Grade': 'B', 'Marks': 50}"
      ]
     },
     "execution_count": 34,
     "metadata": {},
     "output_type": "execute_result"
    }
   ],
   "source": [
    "dic"
   ]
  },
  {
   "cell_type": "code",
   "execution_count": 35,
   "id": "f79f0a0b",
   "metadata": {},
   "outputs": [],
   "source": [
    "# exaple for mutable\n",
    "dic['Name']='prasanna'"
   ]
  },
  {
   "cell_type": "code",
   "execution_count": 36,
   "id": "261ab8d5",
   "metadata": {},
   "outputs": [
    {
     "data": {
      "text/plain": [
       "{'Name': 'prasanna', 'Id': 221, 'Age': 34, 'Grade': 'B', 'Marks': 50}"
      ]
     },
     "execution_count": 36,
     "metadata": {},
     "output_type": "execute_result"
    }
   ],
   "source": [
    "dic"
   ]
  },
  {
   "cell_type": "code",
   "execution_count": 37,
   "id": "291e836e",
   "metadata": {},
   "outputs": [
    {
     "data": {
      "text/plain": [
       "'Nellore'"
      ]
     },
     "execution_count": 37,
     "metadata": {},
     "output_type": "execute_result"
    }
   ],
   "source": [
    "# setdefault()\n",
    "dic.setdefault('Add','Nellore')"
   ]
  },
  {
   "cell_type": "code",
   "execution_count": 38,
   "id": "5efb1295",
   "metadata": {},
   "outputs": [
    {
     "data": {
      "text/plain": [
       "{'Name': 'prasanna',\n",
       " 'Id': 221,\n",
       " 'Age': 34,\n",
       " 'Grade': 'B',\n",
       " 'Marks': 50,\n",
       " 'Add': 'Nellore'}"
      ]
     },
     "execution_count": 38,
     "metadata": {},
     "output_type": "execute_result"
    }
   ],
   "source": [
    "dic"
   ]
  },
  {
   "cell_type": "code",
   "execution_count": 39,
   "id": "1615a2fb",
   "metadata": {},
   "outputs": [],
   "source": [
    "dic.setdefault('D')"
   ]
  },
  {
   "cell_type": "code",
   "execution_count": 40,
   "id": "c9de26b5",
   "metadata": {},
   "outputs": [
    {
     "data": {
      "text/plain": [
       "{'Name': 'prasanna',\n",
       " 'Id': 221,\n",
       " 'Age': 34,\n",
       " 'Grade': 'B',\n",
       " 'Marks': 50,\n",
       " 'Add': 'Nellore',\n",
       " 'D': None}"
      ]
     },
     "execution_count": 40,
     "metadata": {},
     "output_type": "execute_result"
    }
   ],
   "source": [
    "dic"
   ]
  },
  {
   "cell_type": "code",
   "execution_count": 41,
   "id": "247f6eda",
   "metadata": {},
   "outputs": [
    {
     "name": "stdout",
     "output_type": "stream",
     "text": [
      "{'Name': 'prasanna', 'Id': 221, 'Age': 34, 'Grade': 'B', 'Marks': 50, 'Add': 'Nellore', 'D': 'DELL'}\n"
     ]
    }
   ],
   "source": [
    "dic['D']='DELL'\n",
    "print(dic)"
   ]
  },
  {
   "cell_type": "code",
   "execution_count": 42,
   "id": "dea63eb0",
   "metadata": {},
   "outputs": [
    {
     "data": {
      "text/plain": [
       "'Nellore'"
      ]
     },
     "execution_count": 42,
     "metadata": {},
     "output_type": "execute_result"
    }
   ],
   "source": [
    "# pop()\n",
    "dic.pop('Add')"
   ]
  },
  {
   "cell_type": "code",
   "execution_count": 43,
   "id": "9ec21fc4",
   "metadata": {},
   "outputs": [
    {
     "data": {
      "text/plain": [
       "{'Name': 'prasanna',\n",
       " 'Id': 221,\n",
       " 'Age': 34,\n",
       " 'Grade': 'B',\n",
       " 'Marks': 50,\n",
       " 'D': 'DELL'}"
      ]
     },
     "execution_count": 43,
     "metadata": {},
     "output_type": "execute_result"
    }
   ],
   "source": [
    "dic"
   ]
  },
  {
   "cell_type": "code",
   "execution_count": 44,
   "id": "c702ba68",
   "metadata": {},
   "outputs": [
    {
     "data": {
      "text/plain": [
       "('D', 'DELL')"
      ]
     },
     "execution_count": 44,
     "metadata": {},
     "output_type": "execute_result"
    }
   ],
   "source": [
    "# popitem()\n",
    "dic.popitem()"
   ]
  },
  {
   "cell_type": "code",
   "execution_count": 45,
   "id": "ee51fb29",
   "metadata": {},
   "outputs": [
    {
     "data": {
      "text/plain": [
       "{'Name': 'prasanna', 'Id': 221, 'Age': 34, 'Grade': 'B', 'Marks': 50}"
      ]
     },
     "execution_count": 45,
     "metadata": {},
     "output_type": "execute_result"
    }
   ],
   "source": [
    "dic"
   ]
  },
  {
   "cell_type": "code",
   "execution_count": 46,
   "id": "3502bf20",
   "metadata": {},
   "outputs": [
    {
     "name": "stdout",
     "output_type": "stream",
     "text": [
      "{'a': 0, 'b': 0, 'h': 0, 'f': 0}\n"
     ]
    }
   ],
   "source": [
    "# fromkeys()\n",
    "keys=('a','b','h','f')\n",
    "values=0\n",
    "dic2=dict.fromkeys(keys,values)\n",
    "print(dic2)"
   ]
  },
  {
   "cell_type": "code",
   "execution_count": 50,
   "id": "13dd3380",
   "metadata": {},
   "outputs": [
    {
     "name": "stdout",
     "output_type": "stream",
     "text": [
      "{'a': None, 'b': None, 'h': None, 'f': None}\n"
     ]
    }
   ],
   "source": [
    "keys=('a','b','h','f')\n",
    "dic2=dict.fromkeys(keys)\n",
    "print(dic2)"
   ]
  },
  {
   "cell_type": "code",
   "execution_count": 51,
   "id": "29df3571",
   "metadata": {},
   "outputs": [],
   "source": [
    "dic2['h']='hp'"
   ]
  },
  {
   "cell_type": "code",
   "execution_count": 52,
   "id": "7af88255",
   "metadata": {},
   "outputs": [
    {
     "data": {
      "text/plain": [
       "{'a': None, 'b': None, 'h': 'hp', 'f': None}"
      ]
     },
     "execution_count": 52,
     "metadata": {},
     "output_type": "execute_result"
    }
   ],
   "source": [
    "dic2"
   ]
  },
  {
   "cell_type": "code",
   "execution_count": 53,
   "id": "00855f44",
   "metadata": {},
   "outputs": [
    {
     "data": {
      "text/plain": [
       "{'Name': 'prasanna', 'Id': 221, 'Age': 34, 'Grade': 'B', 'Marks': 50}"
      ]
     },
     "execution_count": 53,
     "metadata": {},
     "output_type": "execute_result"
    }
   ],
   "source": [
    "# copy()\n",
    "dic"
   ]
  },
  {
   "cell_type": "code",
   "execution_count": 54,
   "id": "83492328",
   "metadata": {},
   "outputs": [
    {
     "name": "stdout",
     "output_type": "stream",
     "text": [
      "{'Name': 'prasanna', 'Id': 221, 'Age': 34, 'Grade': 'B', 'Marks': 50}\n",
      "{'Name': 'prasanna', 'Id': 221, 'Age': 34, 'Grade': 'B', 'Marks': 50}\n"
     ]
    }
   ],
   "source": [
    "dic3=dic.copy()\n",
    "print(dic3)\n",
    "print(dic)"
   ]
  },
  {
   "cell_type": "code",
   "execution_count": 55,
   "id": "b88b8f52",
   "metadata": {},
   "outputs": [],
   "source": [
    "# clear()\n",
    "dic.clear()"
   ]
  },
  {
   "cell_type": "code",
   "execution_count": 56,
   "id": "d9682a7d",
   "metadata": {},
   "outputs": [
    {
     "data": {
      "text/plain": [
       "{}"
      ]
     },
     "execution_count": 56,
     "metadata": {},
     "output_type": "execute_result"
    }
   ],
   "source": [
    "dic"
   ]
  },
  {
   "cell_type": "code",
   "execution_count": 57,
   "id": "401a9ef6",
   "metadata": {},
   "outputs": [
    {
     "data": {
      "text/plain": [
       "{'Name': 'prasanna', 'Id': 221, 'Age': 34, 'Grade': 'B', 'Marks': 50}"
      ]
     },
     "execution_count": 57,
     "metadata": {},
     "output_type": "execute_result"
    }
   ],
   "source": [
    "dic3"
   ]
  },
  {
   "cell_type": "markdown",
   "id": "3faff359",
   "metadata": {},
   "source": [
    "### Nested dictionaries:\n",
    "* Dictionary of list\n",
    "* Dictionary of dictionar"
   ]
  },
  {
   "cell_type": "code",
   "execution_count": 59,
   "id": "623cadd8",
   "metadata": {},
   "outputs": [
    {
     "data": {
      "text/plain": [
       "{'stud1': ['A1', 21, 'c'], 'stud2': ['A2', 31, 'A'], 'stud3': ['A3', 2, 'D']}"
      ]
     },
     "execution_count": 59,
     "metadata": {},
     "output_type": "execute_result"
    }
   ],
   "source": [
    "# Dictionary of list\n",
    "d={'stud1':['A1',21,'c'],'stud2':['A2',31,'A'],'stud3':['A3',2,'D']}\n",
    "d\n"
   ]
  },
  {
   "cell_type": "code",
   "execution_count": 60,
   "id": "d13f5215",
   "metadata": {},
   "outputs": [
    {
     "data": {
      "text/plain": [
       "['A1', 21, 'c']"
      ]
     },
     "execution_count": 60,
     "metadata": {},
     "output_type": "execute_result"
    }
   ],
   "source": [
    "d['stud1']"
   ]
  },
  {
   "cell_type": "code",
   "execution_count": 61,
   "id": "fd5fb8f7",
   "metadata": {},
   "outputs": [
    {
     "data": {
      "text/plain": [
       "21"
      ]
     },
     "execution_count": 61,
     "metadata": {},
     "output_type": "execute_result"
    }
   ],
   "source": [
    "d['stud1'][1]"
   ]
  },
  {
   "cell_type": "code",
   "execution_count": 62,
   "id": "02e4c7cd",
   "metadata": {},
   "outputs": [
    {
     "data": {
      "text/plain": [
       "{'stud1': {21, 'A1', 'c'}, 'stud2': {31, 'A', 'A2'}, 'stud3': {2, 'A3', 'D'}}"
      ]
     },
     "execution_count": 62,
     "metadata": {},
     "output_type": "execute_result"
    }
   ],
   "source": [
    "# Dictionary of Set\n",
    "d2={'stud1':{'A1',21,'c'},'stud2':{'A2',31,'A'},'stud3':{'A3',2,'D'}}\n",
    "d2"
   ]
  },
  {
   "cell_type": "code",
   "execution_count": 63,
   "id": "e6ac1a29",
   "metadata": {},
   "outputs": [
    {
     "data": {
      "text/plain": [
       "{31, 'A', 'A2'}"
      ]
     },
     "execution_count": 63,
     "metadata": {},
     "output_type": "execute_result"
    }
   ],
   "source": [
    "d2['stud2']"
   ]
  },
  {
   "cell_type": "code",
   "execution_count": null,
   "id": "b019deb8",
   "metadata": {},
   "outputs": [],
   "source": []
  },
  {
   "cell_type": "code",
   "execution_count": null,
   "id": "fb2b9fc7",
   "metadata": {},
   "outputs": [],
   "source": []
  },
  {
   "cell_type": "code",
   "execution_count": null,
   "id": "351ee347",
   "metadata": {},
   "outputs": [],
   "source": []
  },
  {
   "cell_type": "code",
   "execution_count": null,
   "id": "d480b39a",
   "metadata": {},
   "outputs": [],
   "source": []
  },
  {
   "cell_type": "code",
   "execution_count": null,
   "id": "4ca640ba",
   "metadata": {},
   "outputs": [],
   "source": []
  },
  {
   "cell_type": "code",
   "execution_count": null,
   "id": "4ef0eac6",
   "metadata": {},
   "outputs": [],
   "source": []
  },
  {
   "cell_type": "code",
   "execution_count": null,
   "id": "c816b9e2",
   "metadata": {},
   "outputs": [],
   "source": []
  },
  {
   "cell_type": "code",
   "execution_count": null,
   "id": "4af78fa9",
   "metadata": {},
   "outputs": [],
   "source": []
  }
 ],
 "metadata": {
  "kernelspec": {
   "display_name": "Python 3",
   "language": "python",
   "name": "python3"
  },
  "language_info": {
   "codemirror_mode": {
    "name": "ipython",
    "version": 3
   },
   "file_extension": ".py",
   "mimetype": "text/x-python",
   "name": "python",
   "nbconvert_exporter": "python",
   "pygments_lexer": "ipython3",
   "version": "3.8.8"
  }
 },
 "nbformat": 4,
 "nbformat_minor": 5
}
