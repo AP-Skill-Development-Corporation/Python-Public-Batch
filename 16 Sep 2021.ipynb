{
 "cells": [
  {
   "cell_type": "markdown",
   "id": "ac00aa07",
   "metadata": {},
   "source": [
    "### Reading input dynamically"
   ]
  },
  {
   "cell_type": "code",
   "execution_count": 2,
   "id": "5d9a0ad4",
   "metadata": {},
   "outputs": [
    {
     "name": "stdout",
     "output_type": "stream",
     "text": [
      "34\n",
      "34\n",
      "<class 'str'>\n"
     ]
    }
   ],
   "source": [
    "x=input()\n",
    "print(x)\n",
    "print(type(x))"
   ]
  },
  {
   "cell_type": "code",
   "execution_count": 3,
   "id": "e2d0511a",
   "metadata": {},
   "outputs": [
    {
     "name": "stdout",
     "output_type": "stream",
     "text": [
      "enter first number:12\n",
      "12\n",
      "<class 'int'>\n"
     ]
    }
   ],
   "source": [
    "x=int(input(\"enter first number:\"))\n",
    "print(x)\n",
    "print(type(x))\n"
   ]
  },
  {
   "cell_type": "code",
   "execution_count": 5,
   "id": "9e83d1b1",
   "metadata": {},
   "outputs": [
    {
     "name": "stdout",
     "output_type": "stream",
     "text": [
      "Enter 1st number:12.3\n",
      "Enter 2nd number:12.5\n",
      "24.8\n"
     ]
    }
   ],
   "source": [
    "a=float(input(\"Enter 1st number:\"))\n",
    "b=float(input(\"Enter 2nd number:\"))\n",
    "print(a+b)"
   ]
  },
  {
   "cell_type": "code",
   "execution_count": 6,
   "id": "79c6335e",
   "metadata": {},
   "outputs": [
    {
     "name": "stdout",
     "output_type": "stream",
     "text": [
      "apssdc\n"
     ]
    },
    {
     "ename": "ValueError",
     "evalue": "invalid literal for int() with base 10: 'apssdc'",
     "output_type": "error",
     "traceback": [
      "\u001b[1;31m---------------------------------------------------------------------------\u001b[0m",
      "\u001b[1;31mValueError\u001b[0m                                Traceback (most recent call last)",
      "\u001b[1;32m<ipython-input-6-cad30f6826f5>\u001b[0m in \u001b[0;36m<module>\u001b[1;34m\u001b[0m\n\u001b[1;32m----> 1\u001b[1;33m \u001b[0mn1\u001b[0m\u001b[1;33m=\u001b[0m\u001b[0mint\u001b[0m\u001b[1;33m(\u001b[0m\u001b[0minput\u001b[0m\u001b[1;33m(\u001b[0m\u001b[1;33m)\u001b[0m\u001b[1;33m)\u001b[0m\u001b[1;33m\u001b[0m\u001b[1;33m\u001b[0m\u001b[0m\n\u001b[0m\u001b[0;32m      2\u001b[0m \u001b[0mprint\u001b[0m\u001b[1;33m(\u001b[0m\u001b[0mn1\u001b[0m\u001b[1;33m)\u001b[0m\u001b[1;33m\u001b[0m\u001b[1;33m\u001b[0m\u001b[0m\n",
      "\u001b[1;31mValueError\u001b[0m: invalid literal for int() with base 10: 'apssdc'"
     ]
    }
   ],
   "source": [
    "n1=int(input())\n",
    "print(n1)\n"
   ]
  },
  {
   "cell_type": "markdown",
   "id": "f96ed2db",
   "metadata": {},
   "source": [
    "## Control Statements:\n",
    "     - To control the flow of execution of a program\n",
    "     - 1)condotional statements\n",
    "     - 2)Looping/iterative statements\n",
    "     - 3)jumping statements"
   ]
  },
  {
   "cell_type": "markdown",
   "id": "7ff425a9",
   "metadata": {},
   "source": [
    "### Conditional statements:\n",
    "- 1)if statement:\n",
    "    - syntax:\n",
    "            - if(condition):(logical and comparision operators)\n",
    "                  statements\n",
    "- 2)if else:\n",
    "   - syntax:\n",
    "           - if(condition):\n",
    "                   statements\n",
    "                   else:\n",
    "                       statements\n",
    "             - to check the two conditions\n",
    "- 3)elif statement:\n",
    "     - syntax:\n",
    "           - if(condition):\n",
    "                 statements\n",
    "             elif(condition):\n",
    "                 statements\n",
    "             elif(condition):\n",
    "                 statements\n",
    "             else:\n",
    "                 statements\n",
    "                 \n",
    "        - to check the 2 or more conditions\n",
    "        \n",
    "- 4)nested if statement:\n",
    "     - syntax:\n",
    "             if(condition):\n",
    "                 if(conition):\n",
    "                       statements\n",
    "                 else:\n",
    "                     statements\n",
    "             else:\n",
    "                 statements\n",
    "                  \n",
    "                 \n",
    "   \n",
    "                   \n",
    "            "
   ]
  },
  {
   "cell_type": "code",
   "execution_count": 9,
   "id": "94c2f2bc",
   "metadata": {},
   "outputs": [
    {
     "name": "stdout",
     "output_type": "stream",
     "text": [
      "Enter number..4\n",
      "4 is positive number..\n"
     ]
    }
   ],
   "source": [
    "# To check the given number is positive number?\n",
    "n=int(input(\"Enter number..\"))\n",
    "if(n>0):#4>0\n",
    "    print(n,\"is positive number..\")"
   ]
  },
  {
   "cell_type": "code",
   "execution_count": 12,
   "id": "f62e9e02",
   "metadata": {},
   "outputs": [
    {
     "name": "stdout",
     "output_type": "stream",
     "text": [
      "Enter number..45\n",
      "45 is a positive number..\n"
     ]
    }
   ],
   "source": [
    "# to check the given number is positive number or negative number?\n",
    "n=int(input(\"Enter number..\"))\n",
    "if(n>0):\n",
    "    print(n,\"is a positive number..\")\n",
    "else:\n",
    "    print(n,\"is a negative number..\")"
   ]
  },
  {
   "cell_type": "code",
   "execution_count": 17,
   "id": "2b164eab",
   "metadata": {},
   "outputs": [
    {
     "name": "stdout",
     "output_type": "stream",
     "text": [
      "Enter a value..34\n",
      "Enter b value..45\n",
      "Enter c value..12\n",
      "b is biggest..\n"
     ]
    }
   ],
   "source": [
    "# To find the biggest of three numbers?\n",
    "a=int(input(\"Enter a value..\"))\n",
    "b=int(input(\"Enter b value..\"))\n",
    "c=int(input(\"Enter c value..\"))\n",
    "if(a>b and a>c):\n",
    "    print(\"a is biggest..\")\n",
    "elif(b>c):\n",
    "    print(\"b is biggest..\")\n",
    "else:\n",
    "    print(\"c is biggest..\")\n",
    "        "
   ]
  },
  {
   "cell_type": "code",
   "execution_count": 4,
   "id": "1f6ab2fe",
   "metadata": {},
   "outputs": [
    {
     "name": "stdout",
     "output_type": "stream",
     "text": [
      "Enter username..python\n",
      "Enter password..apssdc\n",
      "welcome.... python\n"
     ]
    }
   ],
   "source": [
    "#Login page\n",
    "username=\"python\"\n",
    "password=\"apssdc\"\n",
    "un=input(\"Enter username..\")\n",
    "if(username==un):\n",
    "    ps=input(\"Enter password..\")\n",
    "    if(password==ps):\n",
    "        print(\"welcome....\",un)\n",
    "    else:\n",
    "        print(\"incorrect password..\")\n",
    "else:\n",
    "    print(\"your entered invalid username..\")\n",
    "    "
   ]
  },
  {
   "cell_type": "markdown",
   "id": "5d0a26a1",
   "metadata": {},
   "source": [
    "### Loop:\n",
    "     - def: Repeat the sequence of instructions until the condition is satisfies..\n",
    "     - 1)for\n",
    "     - 2)while\n",
    " - syntax:\n",
    "        - for variable_name in sequence:\n",
    "                statements\n",
    "                \n",
    "                or\n",
    "        - for variable_name in range(start,end,step):\n",
    "                 statements"
   ]
  },
  {
   "cell_type": "code",
   "execution_count": 9,
   "id": "083a9132",
   "metadata": {},
   "outputs": [
    {
     "name": "stdout",
     "output_type": "stream",
     "text": [
      "1 2 3 4 5 6 7 8 9 10 "
     ]
    }
   ],
   "source": [
    "# To print 1 to 10 natural numbers using for loop?\n",
    "#output:12345678910\n",
    "for i in range(1,11):\n",
    "    print(i,end=\" \")"
   ]
  },
  {
   "cell_type": "code",
   "execution_count": 10,
   "id": "299fc0e3",
   "metadata": {},
   "outputs": [
    {
     "name": "stdout",
     "output_type": "stream",
     "text": [
      "0 1 2 3 4 5 6 7 8 9 10 "
     ]
    }
   ],
   "source": [
    "for i in range(11):\n",
    "    print(i,end=\" \")"
   ]
  },
  {
   "cell_type": "code",
   "execution_count": 11,
   "id": "995b6f6c",
   "metadata": {},
   "outputs": [
    {
     "name": "stdout",
     "output_type": "stream",
     "text": [
      "a p s s d c "
     ]
    }
   ],
   "source": [
    "s=\"apssdc\"\n",
    "for i in s:\n",
    "    print(i,end=\" \")"
   ]
  },
  {
   "cell_type": "code",
   "execution_count": 15,
   "id": "4ed2e1ed",
   "metadata": {},
   "outputs": [
    {
     "name": "stdout",
     "output_type": "stream",
     "text": [
      "a b c d e f g h i j k l m n o p q r s t u v w x y z "
     ]
    }
   ],
   "source": [
    "# To print A to Z alphabets using for loop?\n",
    "for i in range(97,123):\n",
    "    print(chr(i),end=\" \")"
   ]
  },
  {
   "cell_type": "code",
   "execution_count": 12,
   "id": "0477b989",
   "metadata": {},
   "outputs": [
    {
     "data": {
      "text/plain": [
       "65"
      ]
     },
     "execution_count": 12,
     "metadata": {},
     "output_type": "execute_result"
    }
   ],
   "source": [
    "ord('A')"
   ]
  },
  {
   "cell_type": "code",
   "execution_count": 13,
   "id": "009c0b22",
   "metadata": {},
   "outputs": [
    {
     "data": {
      "text/plain": [
       "90"
      ]
     },
     "execution_count": 13,
     "metadata": {},
     "output_type": "execute_result"
    }
   ],
   "source": [
    "ord('Z')"
   ]
  },
  {
   "cell_type": "code",
   "execution_count": 14,
   "id": "23d5cb59",
   "metadata": {},
   "outputs": [
    {
     "data": {
      "text/plain": [
       "'Z'"
      ]
     },
     "execution_count": 14,
     "metadata": {},
     "output_type": "execute_result"
    }
   ],
   "source": [
    "chr(90)"
   ]
  },
  {
   "cell_type": "code",
   "execution_count": null,
   "id": "c5341fd2",
   "metadata": {},
   "outputs": [],
   "source": [
    "print(ord(a))#using ord we can print the asccii value of a given character..\n",
    "print(chr(67))#using chr we can print the character of a given asccii value.."
   ]
  },
  {
   "cell_type": "code",
   "execution_count": 16,
   "id": "3c8f42a1",
   "metadata": {},
   "outputs": [
    {
     "name": "stdout",
     "output_type": "stream",
     "text": [
      "2 4 6 8 10 12 14 16 18 20 22 24 "
     ]
    }
   ],
   "source": [
    "#To print the even natural numbers in betwwen 2 to 25 using for loop?\n",
    "for i in range(2,25,2):\n",
    "    print(i,end=\" \")"
   ]
  },
  {
   "cell_type": "code",
   "execution_count": 18,
   "id": "91c8cdd3",
   "metadata": {},
   "outputs": [
    {
     "name": "stdout",
     "output_type": "stream",
     "text": [
      "1 3 5 7 9 11 13 15 17 19 21 23 25 27 29 31 33 35 "
     ]
    }
   ],
   "source": [
    "#To print the odd natural numbers in between 1 to 36?\n",
    "for i in range(1,36,2):\n",
    "    print(i,end=\" \")"
   ]
  },
  {
   "cell_type": "code",
   "execution_count": null,
   "id": "56a1d2e0",
   "metadata": {},
   "outputs": [],
   "source": []
  },
  {
   "cell_type": "code",
   "execution_count": null,
   "id": "b69b5ea7",
   "metadata": {},
   "outputs": [],
   "source": []
  },
  {
   "cell_type": "code",
   "execution_count": null,
   "id": "90b08001",
   "metadata": {},
   "outputs": [],
   "source": []
  },
  {
   "cell_type": "code",
   "execution_count": null,
   "id": "e7b6489e",
   "metadata": {},
   "outputs": [],
   "source": []
  }
 ],
 "metadata": {
  "kernelspec": {
   "display_name": "Python 3",
   "language": "python",
   "name": "python3"
  },
  "language_info": {
   "codemirror_mode": {
    "name": "ipython",
    "version": 3
   },
   "file_extension": ".py",
   "mimetype": "text/x-python",
   "name": "python",
   "nbconvert_exporter": "python",
   "pygments_lexer": "ipython3",
   "version": "3.8.8"
  }
 },
 "nbformat": 4,
 "nbformat_minor": 5
}
