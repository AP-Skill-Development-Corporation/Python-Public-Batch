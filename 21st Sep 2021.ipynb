{
 "cells": [
  {
   "cell_type": "markdown",
   "id": "1deac014",
   "metadata": {},
   "source": [
    "## Python Data Structures:\n",
    "    - List\n",
    "    - Tuple\n",
    "    - Dictionaries\n",
    "    - sets"
   ]
  },
  {
   "cell_type": "markdown",
   "id": "cebbaaf4",
   "metadata": {},
   "source": [
    "### List:\n",
    "    - It is ordered collection of different data types..\n",
    "    - In python List is written in square brackets([]).\n",
    "    - Each and every item seperated with comma(,)\n",
    "    - It is similar to arrays.\n",
    "    - index position starts from 0 to size-1.\n",
    "    - It is mutable(changable).\n",
    "    - In list each and every item access with index position..\n",
    "    - using list constructor we can create the list."
   ]
  },
  {
   "cell_type": "markdown",
   "id": "2b31223c",
   "metadata": {},
   "source": [
    "#### Declaration of list:\n",
    "  - syntax:  list_name=[value1,value2,....valuen]"
   ]
  },
  {
   "cell_type": "code",
   "execution_count": 2,
   "id": "d6442ef7",
   "metadata": {},
   "outputs": [
    {
     "name": "stdout",
     "output_type": "stream",
     "text": [
      "[10, 20, 'apssdc', 10.3, 'python', 45, 100]\n",
      "<class 'list'>\n"
     ]
    }
   ],
   "source": [
    "# Initialization of list..\n",
    "L1=[10,20,\"apssdc\",10.3,'python',45,100]\n",
    "print(L1)\n",
    "print(type(L1))"
   ]
  },
  {
   "cell_type": "markdown",
   "id": "c78b1c81",
   "metadata": {},
   "source": [
    "#### Accessing the elements from the list:\n",
    "   - indexing and slicing"
   ]
  },
  {
   "cell_type": "code",
   "execution_count": 3,
   "id": "e8b181a3",
   "metadata": {},
   "outputs": [
    {
     "data": {
      "text/plain": [
       "[10, 20, 'apssdc', 10.3, 'python', 45, 100]"
      ]
     },
     "execution_count": 3,
     "metadata": {},
     "output_type": "execute_result"
    }
   ],
   "source": [
    "L1"
   ]
  },
  {
   "cell_type": "code",
   "execution_count": 4,
   "id": "f652c6b0",
   "metadata": {},
   "outputs": [
    {
     "data": {
      "text/plain": [
       "'apssdc'"
      ]
     },
     "execution_count": 4,
     "metadata": {},
     "output_type": "execute_result"
    }
   ],
   "source": [
    "L1[2]"
   ]
  },
  {
   "cell_type": "code",
   "execution_count": 5,
   "id": "82f81169",
   "metadata": {},
   "outputs": [
    {
     "data": {
      "text/plain": [
       "100"
      ]
     },
     "execution_count": 5,
     "metadata": {},
     "output_type": "execute_result"
    }
   ],
   "source": [
    "L1[6]"
   ]
  },
  {
   "cell_type": "code",
   "execution_count": 6,
   "id": "bcae1b28",
   "metadata": {},
   "outputs": [
    {
     "data": {
      "text/plain": [
       "[10, 20, 'apssdc', 10.3]"
      ]
     },
     "execution_count": 6,
     "metadata": {},
     "output_type": "execute_result"
    }
   ],
   "source": [
    "L1[0:4]"
   ]
  },
  {
   "cell_type": "code",
   "execution_count": 9,
   "id": "0e8cbf7d",
   "metadata": {},
   "outputs": [
    {
     "name": "stdout",
     "output_type": "stream",
     "text": [
      "[10, 20, 'apssdc', 10.3, 'python', 45, 100]\n"
     ]
    },
    {
     "data": {
      "text/plain": [
       "[10, 'apssdc', 'python']"
      ]
     },
     "execution_count": 9,
     "metadata": {},
     "output_type": "execute_result"
    }
   ],
   "source": [
    "print(L1)\n",
    "L1[0:6:2]\n"
   ]
  },
  {
   "cell_type": "code",
   "execution_count": 10,
   "id": "a1ebee05",
   "metadata": {},
   "outputs": [
    {
     "name": "stdout",
     "output_type": "stream",
     "text": [
      "[10, 20, 'apssdc', 10.3, 'python', 45, 100]\n"
     ]
    },
    {
     "data": {
      "text/plain": [
       "[100, 45, 'python', 10.3, 'apssdc', 20, 10]"
      ]
     },
     "execution_count": 10,
     "metadata": {},
     "output_type": "execute_result"
    }
   ],
   "source": [
    "print(L1)\n",
    "L1[::-1]# To print the list in reverse order..."
   ]
  },
  {
   "cell_type": "code",
   "execution_count": 11,
   "id": "bfae86ed",
   "metadata": {},
   "outputs": [
    {
     "data": {
      "text/plain": [
       "[10, 20, 30, 40, 11, 22, 33, 44, 55]"
      ]
     },
     "execution_count": 11,
     "metadata": {},
     "output_type": "execute_result"
    }
   ],
   "source": [
    "# Adding Two lists..\n",
    "L2=[10,20,30,40]\n",
    "L3=[11,22,33,44,55]\n",
    "L2+L3"
   ]
  },
  {
   "cell_type": "code",
   "execution_count": 12,
   "id": "ecd76adc",
   "metadata": {},
   "outputs": [
    {
     "data": {
      "text/plain": [
       "55"
      ]
     },
     "execution_count": 12,
     "metadata": {},
     "output_type": "execute_result"
    }
   ],
   "source": [
    "L3[-1]# To get the last element from the list"
   ]
  },
  {
   "cell_type": "code",
   "execution_count": 13,
   "id": "09a43072",
   "metadata": {},
   "outputs": [
    {
     "data": {
      "text/plain": [
       "44"
      ]
     },
     "execution_count": 13,
     "metadata": {},
     "output_type": "execute_result"
    }
   ],
   "source": [
    "L3[-2]"
   ]
  },
  {
   "cell_type": "code",
   "execution_count": 18,
   "id": "0f36ae43",
   "metadata": {},
   "outputs": [
    {
     "name": "stdout",
     "output_type": "stream",
     "text": [
      "[10, 205, 30, 40]\n",
      "[10, 205, 30, 40]\n"
     ]
    }
   ],
   "source": [
    "# Update the list...\n",
    "print(L2)\n",
    "L2[1]=205\n",
    "print(L2)"
   ]
  },
  {
   "cell_type": "code",
   "execution_count": 19,
   "id": "3d767ddd",
   "metadata": {},
   "outputs": [
    {
     "data": {
      "text/plain": [
       "4"
      ]
     },
     "execution_count": 19,
     "metadata": {},
     "output_type": "execute_result"
    }
   ],
   "source": [
    "# To find the length of the list..\n",
    "len(L2)"
   ]
  },
  {
   "cell_type": "code",
   "execution_count": 20,
   "id": "1d8cbd07",
   "metadata": {},
   "outputs": [
    {
     "name": "stdout",
     "output_type": "stream",
     "text": [
      "[10, 205, 30, 40]\n"
     ]
    },
    {
     "data": {
      "text/plain": [
       "205"
      ]
     },
     "execution_count": 20,
     "metadata": {},
     "output_type": "execute_result"
    }
   ],
   "source": [
    "# To find the maximum element from the list..\n",
    "print(L2)\n",
    "max(L2)"
   ]
  },
  {
   "cell_type": "code",
   "execution_count": 21,
   "id": "cd21d185",
   "metadata": {},
   "outputs": [
    {
     "name": "stdout",
     "output_type": "stream",
     "text": [
      "[10, 205, 30, 40]\n"
     ]
    },
    {
     "data": {
      "text/plain": [
       "10"
      ]
     },
     "execution_count": 21,
     "metadata": {},
     "output_type": "execute_result"
    }
   ],
   "source": [
    "# To find the minimum element from the list..\n",
    "print(L2)\n",
    "min(L2)"
   ]
  },
  {
   "cell_type": "code",
   "execution_count": 22,
   "id": "e5e63bf9",
   "metadata": {},
   "outputs": [
    {
     "name": "stdout",
     "output_type": "stream",
     "text": [
      "[10, 205, 30, 40]\n"
     ]
    },
    {
     "data": {
      "text/plain": [
       "285"
      ]
     },
     "execution_count": 22,
     "metadata": {},
     "output_type": "execute_result"
    }
   ],
   "source": [
    "# To find the sum of all list elements using sum..\n",
    "print(L2)\n",
    "sum(L2)"
   ]
  },
  {
   "cell_type": "markdown",
   "id": "900a621e",
   "metadata": {},
   "source": [
    "### Using for loop get the list of values.."
   ]
  },
  {
   "cell_type": "code",
   "execution_count": 23,
   "id": "dd369e53",
   "metadata": {},
   "outputs": [
    {
     "name": "stdout",
     "output_type": "stream",
     "text": [
      "[10, 205, 30, 40]\n"
     ]
    }
   ],
   "source": [
    "print(L2)"
   ]
  },
  {
   "cell_type": "code",
   "execution_count": 25,
   "id": "5683d0a5",
   "metadata": {},
   "outputs": [
    {
     "name": "stdout",
     "output_type": "stream",
     "text": [
      "10\n",
      "205\n",
      "30\n",
      "40\n"
     ]
    }
   ],
   "source": [
    "for i in L2:\n",
    "    print(i)"
   ]
  },
  {
   "cell_type": "code",
   "execution_count": 26,
   "id": "407dbe9f",
   "metadata": {},
   "outputs": [
    {
     "name": "stdout",
     "output_type": "stream",
     "text": [
      "10 20 apssdc 10.3 python 45 100 "
     ]
    }
   ],
   "source": [
    "for i in L1:\n",
    "    print(i,end=\" \")"
   ]
  },
  {
   "cell_type": "markdown",
   "id": "5a9f7318",
   "metadata": {},
   "source": [
    "### List Methods:"
   ]
  },
  {
   "cell_type": "code",
   "execution_count": 27,
   "id": "1f42b4c9",
   "metadata": {},
   "outputs": [
    {
     "name": "stdout",
     "output_type": "stream",
     "text": [
      "['__add__', '__class__', '__contains__', '__delattr__', '__delitem__', '__dir__', '__doc__', '__eq__', '__format__', '__ge__', '__getattribute__', '__getitem__', '__gt__', '__hash__', '__iadd__', '__imul__', '__init__', '__init_subclass__', '__iter__', '__le__', '__len__', '__lt__', '__mul__', '__ne__', '__new__', '__reduce__', '__reduce_ex__', '__repr__', '__reversed__', '__rmul__', '__setattr__', '__setitem__', '__sizeof__', '__str__', '__subclasshook__', 'append', 'clear', 'copy', 'count', 'extend', 'index', 'insert', 'pop', 'remove', 'reverse', 'sort']\n"
     ]
    }
   ],
   "source": [
    "print(dir(list))"
   ]
  },
  {
   "cell_type": "markdown",
   "id": "2ce3383a",
   "metadata": {},
   "source": [
    "#### append:\n",
    "  - To add the new element to the end of the list..\n",
    "  - syntax: list_name.append(element)"
   ]
  },
  {
   "cell_type": "code",
   "execution_count": 29,
   "id": "472a3637",
   "metadata": {},
   "outputs": [
    {
     "name": "stdout",
     "output_type": "stream",
     "text": [
      "[10, 20, 30, 40, 50, 44, 37, 21]\n"
     ]
    }
   ],
   "source": [
    "# example program on append method..\n",
    "List1=[10,20,30,40,50]\n",
    "List1.append(44)\n",
    "List1.append(37)\n",
    "List1.append(21)\n",
    "print(List1)"
   ]
  },
  {
   "cell_type": "markdown",
   "id": "4ce512d5",
   "metadata": {},
   "source": [
    "#### insert:\n",
    " - It is used to insert an element in specific position..\n",
    " - syntax: list_name.insert(posion,element)"
   ]
  },
  {
   "cell_type": "code",
   "execution_count": 30,
   "id": "7156eb49",
   "metadata": {},
   "outputs": [
    {
     "name": "stdout",
     "output_type": "stream",
     "text": [
      "[10, 20, 100, 30, 40, 50, 44, 37, 21]\n"
     ]
    }
   ],
   "source": [
    "# example program on insert..\n",
    "List1\n",
    "List1.insert(2,100)\n",
    "print(List1)"
   ]
  },
  {
   "cell_type": "markdown",
   "id": "7a8ac5af",
   "metadata": {},
   "source": [
    "#### extend:\n",
    " - To add the multiple elements to the end of the list..\n",
    " - syntax: list_name.extend([value1,value2...]"
   ]
  },
  {
   "cell_type": "code",
   "execution_count": 31,
   "id": "4b00c051",
   "metadata": {},
   "outputs": [
    {
     "name": "stdout",
     "output_type": "stream",
     "text": [
      "[10, 20, 100, 30, 40, 50, 44, 37, 21]\n",
      "[10, 20, 100, 30, 40, 50, 44, 37, 21, 'apssdc', 'welcome', 23.5, 67]\n"
     ]
    }
   ],
   "source": [
    "# example program on extend..\n",
    "print(List1)\n",
    "List1.extend(['apssdc','welcome',23.5,67])\n",
    "print(List1)"
   ]
  },
  {
   "cell_type": "code",
   "execution_count": 32,
   "id": "00efda3a",
   "metadata": {},
   "outputs": [
    {
     "name": "stdout",
     "output_type": "stream",
     "text": [
      "[10, 20, 100, 30, 40, 50, 44, 37, 21, 'apssdc', 'welcome', 23.5, 67, 1, 2, 3]\n"
     ]
    }
   ],
   "source": [
    "L5=[1,2,3]\n",
    "List1.extend(L5)\n",
    "print(List1)"
   ]
  },
  {
   "cell_type": "code",
   "execution_count": 33,
   "id": "1f5a49b1",
   "metadata": {},
   "outputs": [
    {
     "data": {
      "text/plain": [
       "[1, 2, 3, 4, 11, 22, 33, 44]"
      ]
     },
     "execution_count": 33,
     "metadata": {},
     "output_type": "execute_result"
    }
   ],
   "source": [
    "A=[1,2,3,4]\n",
    "B=[11,22,33,44]\n",
    "A+B"
   ]
  },
  {
   "cell_type": "code",
   "execution_count": 34,
   "id": "8925626d",
   "metadata": {},
   "outputs": [
    {
     "data": {
      "text/plain": [
       "[1, 2, 3, 4]"
      ]
     },
     "execution_count": 34,
     "metadata": {},
     "output_type": "execute_result"
    }
   ],
   "source": [
    "A"
   ]
  },
  {
   "cell_type": "markdown",
   "id": "b5b9c6ea",
   "metadata": {},
   "source": [
    "#### Count:\n",
    "- To print the number of occurences of a given element in the list..\n",
    "- syntax: list_name.count(element)"
   ]
  },
  {
   "cell_type": "code",
   "execution_count": 38,
   "id": "3f7211c2",
   "metadata": {},
   "outputs": [
    {
     "name": "stdout",
     "output_type": "stream",
     "text": [
      "[10, 20, 30, 10, 30.45, 60, 55, 45]\n",
      "2\n",
      "1\n",
      "0\n"
     ]
    }
   ],
   "source": [
    "# example program on count..\n",
    "L1=[10,20,30,10,30.45,60,55,45]\n",
    "print(L1)\n",
    "print(L1.count(10))\n",
    "print(L1.count(55))\n",
    "print(L1.count(100))"
   ]
  },
  {
   "cell_type": "markdown",
   "id": "316db79f",
   "metadata": {},
   "source": [
    "#### index:\n",
    " - It returns the index position of a given element from the list..\n",
    " - syntax: list_nmae.index(element)"
   ]
  },
  {
   "cell_type": "code",
   "execution_count": 39,
   "id": "e90ba877",
   "metadata": {},
   "outputs": [
    {
     "name": "stdout",
     "output_type": "stream",
     "text": [
      "[10, 20, 30, 10, 30.45, 60, 55, 45]\n",
      "5\n",
      "0\n"
     ]
    }
   ],
   "source": [
    "# example program on index..\n",
    "print(L1)\n",
    "print(L1.index(60))\n",
    "print(L1.index(10))"
   ]
  },
  {
   "cell_type": "markdown",
   "id": "044466a2",
   "metadata": {},
   "source": [
    "#### pop:\n",
    "- To delete an element from the list..\n",
    "- 1)syntax:  list_nmae.pop()\n",
    "- 2)syntax:  list_nme.pop(index_position)"
   ]
  },
  {
   "cell_type": "code",
   "execution_count": 40,
   "id": "cb9bd069",
   "metadata": {},
   "outputs": [
    {
     "name": "stdout",
     "output_type": "stream",
     "text": [
      "[10, 20, 30, 10, 30.45, 60, 55, 45]\n",
      "45\n",
      "[10, 20, 30, 10, 30.45, 60, 55]\n"
     ]
    }
   ],
   "source": [
    "# example program on pop...\n",
    "print(L1)\n",
    "print(L1.pop())\n",
    "print(L1)"
   ]
  },
  {
   "cell_type": "code",
   "execution_count": 45,
   "id": "c2250962",
   "metadata": {},
   "outputs": [
    {
     "name": "stdout",
     "output_type": "stream",
     "text": [
      "[10, 20, 60, 55]\n",
      "60\n",
      "[10, 20, 55]\n"
     ]
    }
   ],
   "source": [
    "print(L1)\n",
    "print(L1.pop(2))\n",
    "print(L1)"
   ]
  },
  {
   "cell_type": "markdown",
   "id": "efdebf12",
   "metadata": {},
   "source": [
    "#### remove:\n",
    "- to delete the particular element from the list..\n",
    "- syntax: list_name.remove(element)"
   ]
  },
  {
   "cell_type": "code",
   "execution_count": 7,
   "id": "c8f0a4ea",
   "metadata": {},
   "outputs": [
    {
     "name": "stdout",
     "output_type": "stream",
     "text": [
      "[11, 22, 33, 44]\n",
      "None\n",
      "[11, 22, 44]\n"
     ]
    }
   ],
   "source": [
    "L3=[11,22,33,44]\n",
    "print(L3)\n",
    "print(L3.remove(33))\n",
    "print(L3)"
   ]
  },
  {
   "cell_type": "markdown",
   "id": "f02fea20",
   "metadata": {},
   "source": [
    "#### reverse:\n",
    " - To print the list in reverse order..\n",
    " - syntax: list_name.reverse()"
   ]
  },
  {
   "cell_type": "code",
   "execution_count": 9,
   "id": "4b168ce9",
   "metadata": {},
   "outputs": [
    {
     "name": "stdout",
     "output_type": "stream",
     "text": [
      "[10, 20, 30, 40, 50, 60, 100]\n",
      "[100, 60, 50, 40, 30, 20, 10]\n"
     ]
    }
   ],
   "source": [
    "# example program on reverse..\n",
    "L1=[10,20,30,40,50,60,100]\n",
    "print(L1)\n",
    "L1.reverse()\n",
    "print(L1)"
   ]
  },
  {
   "cell_type": "markdown",
   "id": "45952315",
   "metadata": {},
   "source": [
    "#### Sort:\n",
    "- To print the list in ascending order or descending order\n",
    "- syntax 1): list_name.sort()-->It returns the list in ascending order\n",
    "- syntax 2): list_name.sort(reverse=True)-->It returns in descending order"
   ]
  },
  {
   "cell_type": "code",
   "execution_count": 12,
   "id": "5b134186",
   "metadata": {},
   "outputs": [
    {
     "name": "stdout",
     "output_type": "stream",
     "text": [
      "[2, 6, 10, 10, 14, 23, 35, 78, 100]\n"
     ]
    }
   ],
   "source": [
    "L1=[10,2,14,35,6,78,10,23,100]\n",
    "L1.sort()\n",
    "print(L1)"
   ]
  },
  {
   "cell_type": "code",
   "execution_count": 13,
   "id": "dc016367",
   "metadata": {},
   "outputs": [
    {
     "name": "stdout",
     "output_type": "stream",
     "text": [
      "[100, 78, 35, 23, 14, 10, 10, 6, 2]\n"
     ]
    }
   ],
   "source": [
    "L1.sort(reverse=True)\n",
    "print(L1)"
   ]
  },
  {
   "cell_type": "markdown",
   "id": "5e3a6cd3",
   "metadata": {},
   "source": [
    "#### copy:\n",
    "- to copy the data from one list to another list\n",
    "- syntax: new_list=old_list.copy()"
   ]
  },
  {
   "cell_type": "code",
   "execution_count": 14,
   "id": "2c374ac2",
   "metadata": {},
   "outputs": [
    {
     "name": "stdout",
     "output_type": "stream",
     "text": [
      "[10, 34, 56, 78, 23]\n"
     ]
    }
   ],
   "source": [
    "L5=[10,34,56,78,23]\n",
    "L4=[]\n",
    "L4=L5.copy()\n",
    "print(L4)"
   ]
  },
  {
   "cell_type": "markdown",
   "id": "72a85c55",
   "metadata": {},
   "source": [
    "#### clear:\n",
    "- To clear the data from the list..\n",
    "- syntax: list_name.clear()"
   ]
  },
  {
   "cell_type": "code",
   "execution_count": 15,
   "id": "38c2c1e5",
   "metadata": {},
   "outputs": [
    {
     "name": "stdout",
     "output_type": "stream",
     "text": [
      "[100, 78, 35, 23, 14, 10, 10, 6, 2]\n",
      "[]\n"
     ]
    }
   ],
   "source": [
    "print(L1)\n",
    "L1.clear()\n",
    "print(L1)"
   ]
  },
  {
   "cell_type": "code",
   "execution_count": null,
   "id": "ea43c13f",
   "metadata": {},
   "outputs": [],
   "source": []
  },
  {
   "cell_type": "code",
   "execution_count": null,
   "id": "662dd488",
   "metadata": {},
   "outputs": [],
   "source": []
  },
  {
   "cell_type": "code",
   "execution_count": null,
   "id": "d2134afd",
   "metadata": {},
   "outputs": [],
   "source": []
  }
 ],
 "metadata": {
  "kernelspec": {
   "display_name": "Python 3",
   "language": "python",
   "name": "python3"
  },
  "language_info": {
   "codemirror_mode": {
    "name": "ipython",
    "version": 3
   },
   "file_extension": ".py",
   "mimetype": "text/x-python",
   "name": "python",
   "nbconvert_exporter": "python",
   "pygments_lexer": "ipython3",
   "version": "3.8.8"
  }
 },
 "nbformat": 4,
 "nbformat_minor": 5
}
