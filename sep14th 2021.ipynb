{
 "cells": [
  {
   "cell_type": "markdown",
   "id": "d7faf275",
   "metadata": {},
   "source": [
    "## Day Objectives\n",
    "   - python comments\n",
    "   - variables\n",
    "   - keywords\n",
    "   - datatypes\n",
    "   - type conversions"
   ]
  },
  {
   "cell_type": "markdown",
   "id": "03cae1c9",
   "metadata": {},
   "source": [
    "#### Comments:\n",
    "def: comment is not a part of the program, but it enhances the interactivity of the program\n",
    "    - two types of comments\n",
    "     - 1)single line comment\n",
    "     - 1)multiline comment"
   ]
  },
  {
   "cell_type": "markdown",
   "id": "99a2c2c0",
   "metadata": {},
   "source": [
    "#### single line comment"
   ]
  },
  {
   "cell_type": "code",
   "execution_count": 44,
   "id": "1b1686e3",
   "metadata": {},
   "outputs": [],
   "source": [
    "#python programming   #single line comment"
   ]
  },
  {
   "cell_type": "markdown",
   "id": "fa191440",
   "metadata": {},
   "source": [
    "### multiline comment"
   ]
  },
  {
   "cell_type": "code",
   "execution_count": 4,
   "id": "f751d7b9",
   "metadata": {},
   "outputs": [
    {
     "data": {
      "text/plain": [
       "'\\nmulti\\nline\\ncomment\\n\\n'"
      ]
     },
     "execution_count": 4,
     "metadata": {},
     "output_type": "execute_result"
    }
   ],
   "source": [
    "\"\"\"\n",
    "multi\n",
    "line\n",
    "comment\n",
    "\n",
    "\"\"\""
   ]
  },
  {
   "cell_type": "code",
   "execution_count": 5,
   "id": "5f3e685b",
   "metadata": {},
   "outputs": [
    {
     "name": "stdout",
     "output_type": "stream",
     "text": [
      "Good evening to one and all\n"
     ]
    }
   ],
   "source": [
    "print('Good evening to one and all')"
   ]
  },
  {
   "cell_type": "code",
   "execution_count": 45,
   "id": "38f03cdf",
   "metadata": {},
   "outputs": [
    {
     "name": "stdout",
     "output_type": "stream",
     "text": [
      "python programming\n"
     ]
    }
   ],
   "source": [
    "print(\"python programming\")"
   ]
  },
  {
   "cell_type": "code",
   "execution_count": 13,
   "id": "f2f2d954",
   "metadata": {},
   "outputs": [
    {
     "name": "stdout",
     "output_type": "stream",
     "text": [
      "This is swathi'\n",
      "s pen\n"
     ]
    }
   ],
   "source": [
    "print(\"This is swathi'\\ns pen\")"
   ]
  },
  {
   "cell_type": "code",
   "execution_count": 14,
   "id": "2013b593",
   "metadata": {},
   "outputs": [
    {
     "name": "stdout",
     "output_type": "stream",
     "text": [
      " apssdc apssdc apssdc apssdc apssdc apssdc apssdc apssdc apssdc apssdc apssdc apssdc apssdc apssdc apssdc apssdc apssdc apssdc apssdc apssdc apssdc apssdc apssdc apssdc apssdc apssdc apssdc apssdc apssdc apssdc apssdc apssdc apssdc apssdc apssdc apssdc apssdc apssdc apssdc apssdc apssdc apssdc apssdc apssdc apssdc apssdc apssdc apssdc apssdc apssdc apssdc apssdc apssdc apssdc apssdc apssdc apssdc apssdc apssdc apssdc apssdc apssdc apssdc apssdc apssdc apssdc apssdc apssdc apssdc apssdc apssdc apssdc apssdc apssdc apssdc apssdc apssdc apssdc apssdc apssdc apssdc apssdc apssdc apssdc apssdc apssdc apssdc apssdc apssdc apssdc apssdc apssdc apssdc apssdc apssdc apssdc apssdc apssdc apssdc apssdc\n"
     ]
    }
   ],
   "source": [
    "print(100*' apssdc')"
   ]
  },
  {
   "cell_type": "markdown",
   "id": "6d7b48ee",
   "metadata": {},
   "source": [
    "### Variables\n",
    "   - python variable is a reserved memory location to store values"
   ]
  },
  {
   "cell_type": "code",
   "execution_count": 17,
   "id": "a59f06b5",
   "metadata": {},
   "outputs": [
    {
     "name": "stdout",
     "output_type": "stream",
     "text": [
      "123\n"
     ]
    }
   ],
   "source": [
    "a=123\n",
    "a\n",
    "print(a)"
   ]
  },
  {
   "cell_type": "code",
   "execution_count": 18,
   "id": "3c458811",
   "metadata": {},
   "outputs": [
    {
     "data": {
      "text/plain": [
       "'apssdc'"
      ]
     },
     "execution_count": 18,
     "metadata": {},
     "output_type": "execute_result"
    }
   ],
   "source": [
    "a='apssdc'\n",
    "a"
   ]
  },
  {
   "cell_type": "markdown",
   "id": "851ae245",
   "metadata": {},
   "source": [
    "#### multiple variable assignment with multiple values"
   ]
  },
  {
   "cell_type": "code",
   "execution_count": 22,
   "id": "386c1d2e",
   "metadata": {},
   "outputs": [
    {
     "name": "stdout",
     "output_type": "stream",
     "text": [
      "12\n",
      "------\n",
      "12 13 14\n",
      "12 \n",
      " 13 \n",
      " 14 \n",
      "\n"
     ]
    }
   ],
   "source": [
    "x,y,z=12,13,14\n",
    "print(x)\n",
    "print(\"------\")\n",
    "print(x,y,z)\n",
    "print(x,'\\n',y,'\\n',z,'\\n')"
   ]
  },
  {
   "cell_type": "code",
   "execution_count": 25,
   "id": "82432b87",
   "metadata": {},
   "outputs": [
    {
     "name": "stdout",
     "output_type": "stream",
     "text": [
      "13 13 13 13\n"
     ]
    }
   ],
   "source": [
    "d=13\n",
    "a=b=c=d\n",
    "print(d,c,b,a)"
   ]
  },
  {
   "cell_type": "markdown",
   "id": "89420e98",
   "metadata": {},
   "source": [
    "### python keywords\n",
    "   - keywords are the reserved words in python\n",
    "   - we can not use a keyword as a variable name or any other identifiers"
   ]
  },
  {
   "cell_type": "code",
   "execution_count": 26,
   "id": "e2c8aa8e",
   "metadata": {},
   "outputs": [
    {
     "name": "stdout",
     "output_type": "stream",
     "text": [
      "['False', 'None', 'True', 'and', 'as', 'assert', 'async', 'await', 'break', 'class', 'continue', 'def', 'del', 'elif', 'else', 'except', 'finally', 'for', 'from', 'global', 'if', 'import', 'in', 'is', 'lambda', 'nonlocal', 'not', 'or', 'pass', 'raise', 'return', 'try', 'while', 'with', 'yield']\n"
     ]
    }
   ],
   "source": [
    "import keyword\n",
    "print(keyword.kwlist)"
   ]
  },
  {
   "cell_type": "markdown",
   "id": "9b57e90c",
   "metadata": {},
   "source": [
    "### Data Types and their Conversions\n",
    "     . int\n",
    "     . float\n",
    "     . str"
   ]
  },
  {
   "cell_type": "code",
   "execution_count": 27,
   "id": "45187bb2",
   "metadata": {},
   "outputs": [
    {
     "data": {
      "text/plain": [
       "int"
      ]
     },
     "execution_count": 27,
     "metadata": {},
     "output_type": "execute_result"
    }
   ],
   "source": [
    "a=123\n",
    "type(a)"
   ]
  },
  {
   "cell_type": "code",
   "execution_count": 29,
   "id": "59951765",
   "metadata": {},
   "outputs": [
    {
     "name": "stdout",
     "output_type": "stream",
     "text": [
      "apssdc@12345\n"
     ]
    },
    {
     "data": {
      "text/plain": [
       "str"
      ]
     },
     "execution_count": 29,
     "metadata": {},
     "output_type": "execute_result"
    }
   ],
   "source": [
    "b=\"apssdc@12345\"\n",
    "print(b)\n",
    "type(b)"
   ]
  },
  {
   "cell_type": "code",
   "execution_count": 30,
   "id": "771e3223",
   "metadata": {},
   "outputs": [
    {
     "data": {
      "text/plain": [
       "float"
      ]
     },
     "execution_count": 30,
     "metadata": {},
     "output_type": "execute_result"
    }
   ],
   "source": [
    "f=12.3\n",
    "type(f)"
   ]
  },
  {
   "cell_type": "markdown",
   "id": "98eee17a",
   "metadata": {},
   "source": [
    "#### datatype conversions"
   ]
  },
  {
   "cell_type": "code",
   "execution_count": 33,
   "id": "36f585b0",
   "metadata": {},
   "outputs": [
    {
     "name": "stdout",
     "output_type": "stream",
     "text": [
      "12\n"
     ]
    }
   ],
   "source": [
    "print(int(f))\n"
   ]
  },
  {
   "cell_type": "code",
   "execution_count": 34,
   "id": "4393624d",
   "metadata": {},
   "outputs": [
    {
     "data": {
      "text/plain": [
       "12"
      ]
     },
     "execution_count": 34,
     "metadata": {},
     "output_type": "execute_result"
    }
   ],
   "source": [
    "n=int(f)\n",
    "n"
   ]
  },
  {
   "cell_type": "code",
   "execution_count": 36,
   "id": "811d3959",
   "metadata": {},
   "outputs": [
    {
     "data": {
      "text/plain": [
       "12"
      ]
     },
     "execution_count": 36,
     "metadata": {},
     "output_type": "execute_result"
    }
   ],
   "source": [
    "f\n",
    "n"
   ]
  },
  {
   "cell_type": "code",
   "execution_count": 37,
   "id": "b94067f2",
   "metadata": {},
   "outputs": [
    {
     "name": "stdout",
     "output_type": "stream",
     "text": [
      "12.0\n"
     ]
    }
   ],
   "source": [
    "print(float(n))"
   ]
  },
  {
   "cell_type": "code",
   "execution_count": 38,
   "id": "89ec6118",
   "metadata": {},
   "outputs": [
    {
     "name": "stdout",
     "output_type": "stream",
     "text": [
      "25.0\n"
     ]
    }
   ],
   "source": [
    "print(float(25))"
   ]
  },
  {
   "cell_type": "code",
   "execution_count": 40,
   "id": "918d29a0",
   "metadata": {},
   "outputs": [
    {
     "name": "stdout",
     "output_type": "stream",
     "text": [
      "<class 'str'>\n",
      "221\n"
     ]
    }
   ],
   "source": [
    "S='221'\n",
    "print(type(S))\n",
    "print(int(S))"
   ]
  },
  {
   "cell_type": "code",
   "execution_count": 41,
   "id": "6f665f12",
   "metadata": {},
   "outputs": [
    {
     "name": "stdout",
     "output_type": "stream",
     "text": [
      "1213\n"
     ]
    }
   ],
   "source": [
    "S1='12'\n",
    "S2='13'\n",
    "print(S1+S2)"
   ]
  },
  {
   "cell_type": "code",
   "execution_count": 42,
   "id": "7005fb35",
   "metadata": {},
   "outputs": [
    {
     "name": "stdout",
     "output_type": "stream",
     "text": [
      "25\n"
     ]
    }
   ],
   "source": [
    "print(int(S1)+int(S2))"
   ]
  },
  {
   "cell_type": "code",
   "execution_count": 43,
   "id": "d7e16fe4",
   "metadata": {},
   "outputs": [
    {
     "name": "stdout",
     "output_type": "stream",
     "text": [
      "25.0\n"
     ]
    }
   ],
   "source": [
    "print(float(S1)+float(S2))"
   ]
  },
  {
   "cell_type": "code",
   "execution_count": 47,
   "id": "5e9feffc",
   "metadata": {},
   "outputs": [
    {
     "name": "stdout",
     "output_type": "stream",
     "text": [
      "12\n"
     ]
    }
   ],
   "source": [
    "s=12\n",
    "print(s)"
   ]
  },
  {
   "cell_type": "code",
   "execution_count": null,
   "id": "a850bac2",
   "metadata": {},
   "outputs": [],
   "source": []
  },
  {
   "cell_type": "code",
   "execution_count": null,
   "id": "5d0a824d",
   "metadata": {},
   "outputs": [],
   "source": []
  }
 ],
 "metadata": {
  "kernelspec": {
   "display_name": "Python 3",
   "language": "python",
   "name": "python3"
  },
  "language_info": {
   "codemirror_mode": {
    "name": "ipython",
    "version": 3
   },
   "file_extension": ".py",
   "mimetype": "text/x-python",
   "name": "python",
   "nbconvert_exporter": "python",
   "pygments_lexer": "ipython3",
   "version": "3.8.8"
  }
 },
 "nbformat": 4,
 "nbformat_minor": 5
}
