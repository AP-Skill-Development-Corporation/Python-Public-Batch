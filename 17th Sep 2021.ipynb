{
 "cells": [
  {
   "cell_type": "code",
   "execution_count": 17,
   "id": "cd5e5dfa",
   "metadata": {},
   "outputs": [
    {
     "name": "stdout",
     "output_type": "stream",
     "text": [
      "10 9 8 7 6 5 4 3 2 1 "
     ]
    }
   ],
   "source": [
    "# To print 1 to 10 natural numbers in descending order?\n",
    "#output:10 9 8 7...1\n",
    "for i in range(10,0,-1):\n",
    "       print(i,end=\" \")"
   ]
  },
  {
   "cell_type": "code",
   "execution_count": 18,
   "id": "83414447",
   "metadata": {},
   "outputs": [
    {
     "name": "stdout",
     "output_type": "stream",
     "text": [
      "10 8 6 4 2 "
     ]
    }
   ],
   "source": [
    "for i in range(10,0,-2):\n",
    "    print(i,end=\" \")"
   ]
  },
  {
   "cell_type": "code",
   "execution_count": 22,
   "id": "0532d76c",
   "metadata": {},
   "outputs": [
    {
     "name": "stdout",
     "output_type": "stream",
     "text": [
      "Enter n vlue...10\n",
      "1 2 3 4 5 6 7 8 9 10 "
     ]
    }
   ],
   "source": [
    "# dynamic reading values..\n",
    "n=int(input(\"Enter n vlue...\"))\n",
    "for i in range(1,n+1):\n",
    "    print(i,end=\" \")"
   ]
  },
  {
   "cell_type": "code",
   "execution_count": 23,
   "id": "2ff2f4a0",
   "metadata": {},
   "outputs": [
    {
     "name": "stdout",
     "output_type": "stream",
     "text": [
      "Enter n vlue...67\n",
      "1 2 3 4 5 6 7 8 9 10 11 12 13 14 15 16 17 18 19 20 21 22 23 24 25 26 27 28 29 30 31 32 33 34 35 36 37 38 39 40 41 42 43 44 45 46 47 48 49 50 51 52 53 54 55 56 57 58 59 60 61 62 63 64 65 66 67 "
     ]
    }
   ],
   "source": [
    "n=int(input(\"Enter n vlue...\"))\n",
    "for i in range(1,n+1):\n",
    "    print(i,end=\" \")"
   ]
  },
  {
   "cell_type": "code",
   "execution_count": 26,
   "id": "fe64580c",
   "metadata": {},
   "outputs": [
    {
     "name": "stdout",
     "output_type": "stream",
     "text": [
      "Enter range..4\n",
      "1\n",
      "3\n",
      "6\n",
      "10\n"
     ]
    }
   ],
   "source": [
    "#To print the sum of 1 to n natural numbers?\n",
    "#input:n=4(1+2+3+4)=>10\n",
    "#output:10\n",
    "n=int(input(\"Enter range..\"))\n",
    "sum1=0\n",
    "for i in range(1,n+1):\n",
    "    sum1=sum1+i\n",
    "    print(sum1)"
   ]
  },
  {
   "cell_type": "code",
   "execution_count": null,
   "id": "253cfaf3",
   "metadata": {},
   "outputs": [],
   "source": [
    "# To check the given number is prime or not?\n",
    "#def:It is divisible by 1 and itself"
   ]
  },
  {
   "cell_type": "code",
   "execution_count": 29,
   "id": "0c5cc7cb",
   "metadata": {},
   "outputs": [
    {
     "name": "stdout",
     "output_type": "stream",
     "text": [
      "Enter n value..25\n",
      "remainder count is: 3\n",
      "25 is not a prime number..\n"
     ]
    }
   ],
   "source": [
    "n=int(input(\"Enter n value..\"))\n",
    "rem_counter=0\n",
    "for i in range(1,n+1):\n",
    "    if(n%i==0):\n",
    "        rem_counter=rem_counter+1\n",
    "print(\"remainder count is:\",rem_counter)\n",
    "if(rem_counter==2):\n",
    "    print(n,\"is prime number..\")\n",
    "else:\n",
    "    print(n,\"is not a prime number..\")"
   ]
  },
  {
   "cell_type": "code",
   "execution_count": 30,
   "id": "31086256",
   "metadata": {},
   "outputs": [
    {
     "name": "stdout",
     "output_type": "stream",
     "text": [
      "Enter n value..23\n",
      "remainder count is: 2\n",
      "23 is prime number..\n"
     ]
    }
   ],
   "source": [
    "n=int(input(\"Enter n value..\"))\n",
    "rem_counter=0\n",
    "for i in range(1,n+1):\n",
    "    if(n%i==0):\n",
    "        rem_counter=rem_counter+1\n",
    "print(\"remainder count is:\",rem_counter)\n",
    "if(rem_counter==2):\n",
    "    print(n,\"is prime number..\")\n",
    "else:\n",
    "    print(n,\"is not a prime number..\")"
   ]
  },
  {
   "cell_type": "markdown",
   "id": "7f52f940",
   "metadata": {},
   "source": [
    "## While loop:\n",
    "- syntax:\n",
    "       - initialization\n",
    "         while(condition)\n",
    "              statements\n",
    "              increment/decrement"
   ]
  },
  {
   "cell_type": "code",
   "execution_count": 31,
   "id": "b3bc9932",
   "metadata": {},
   "outputs": [
    {
     "name": "stdout",
     "output_type": "stream",
     "text": [
      "Helloworld\n",
      "Helloworld\n",
      "Helloworld\n",
      "Helloworld\n",
      "Helloworld\n",
      "Helloworld\n",
      "Helloworld\n",
      "Helloworld\n",
      "Helloworld\n",
      "Helloworld\n"
     ]
    }
   ],
   "source": [
    "#To print the helloworld in 10 times using while loop?\n",
    "i=1\n",
    "while(i<=10):\n",
    "    print(\"Helloworld\")\n",
    "    i=i+1"
   ]
  },
  {
   "cell_type": "code",
   "execution_count": 32,
   "id": "23921443",
   "metadata": {},
   "outputs": [
    {
     "name": "stdout",
     "output_type": "stream",
     "text": [
      "2\n",
      "3\n",
      "4\n",
      "5\n"
     ]
    }
   ],
   "source": [
    "#basic example\n",
    "num=2\n",
    "while num<=5:\n",
    "    print(num)\n",
    "    num+=1"
   ]
  },
  {
   "cell_type": "code",
   "execution_count": 2,
   "id": "4b9567a3",
   "metadata": {},
   "outputs": [
    {
     "name": "stdout",
     "output_type": "stream",
     "text": [
      "Enter n value..12344\n",
      "n values is\n",
      "14\n"
     ]
    }
   ],
   "source": [
    "# To print the sum of digits of a given number?\n",
    "# n=234 ->4+3+2=>9\n",
    "n=int(input(\"Enter n value..\"))\n",
    "sum1=0\n",
    "while(n!=0):\n",
    "    rem=n%10 #to get the last digit of a given number\n",
    "    sum1=sum1 + rem\n",
    "    n=n//10\n",
    "print(\"n values is\",)\n",
    "print(sum1)"
   ]
  },
  {
   "cell_type": "markdown",
   "id": "d853a401",
   "metadata": {},
   "source": [
    "### nested for loop: for inside the for\n",
    "   - syntax:\n",
    "          - for variable_name in range(start,end,step):\n",
    "                  statements\n",
    "                  for variable_name in range(start,end,step):\n",
    "                         statements"
   ]
  },
  {
   "cell_type": "code",
   "execution_count": 6,
   "id": "ee796443",
   "metadata": {},
   "outputs": [
    {
     "name": "stdout",
     "output_type": "stream",
     "text": [
      "enter range..100\n",
      "2 3 5 7 11 13 17 19 23 29 31 37 41 43 47 53 59 61 67 71 73 79 83 89 97 "
     ]
    }
   ],
   "source": [
    "# To print the 1 to n prime numbers?\n",
    "n=int(input(\"enter range..\"))\n",
    "count=0\n",
    "for i in range(1,n+1): \n",
    "    count=0                     #number picking\n",
    "    for j in range(1,i+1):  #prime number checking process\n",
    "        if(i%j==0):\n",
    "            count=count+1\n",
    "    if count==2:\n",
    "        print(i,end=\" \")"
   ]
  },
  {
   "cell_type": "markdown",
   "id": "7c2eb52a",
   "metadata": {},
   "source": [
    "### Jumping statements:\n",
    "   - break statement\n",
    "   - continue statement\n",
    "   - pass stetement"
   ]
  },
  {
   "cell_type": "markdown",
   "id": "7cc7fa2c",
   "metadata": {},
   "source": [
    "#### break statement:\n",
    " - def: we can use it will teminate the loop"
   ]
  },
  {
   "cell_type": "code",
   "execution_count": 8,
   "id": "f6c18719",
   "metadata": {},
   "outputs": [
    {
     "name": "stdout",
     "output_type": "stream",
     "text": [
      "1\n",
      "2\n",
      "3\n",
      "4\n",
      "5\n",
      "This statement will print after the loop\n"
     ]
    }
   ],
   "source": [
    "#example:\n",
    "x=1\n",
    "while x<=10:\n",
    "    print(x)\n",
    "    if x==5:\n",
    "        break\n",
    "    x=x+1\n",
    "print(\"This statement will print after the loop\")"
   ]
  },
  {
   "cell_type": "markdown",
   "id": "ff659c21",
   "metadata": {},
   "source": [
    "#### continue statement:\n",
    "- def : with the help of the continue statement, we can terminate any iterations"
   ]
  },
  {
   "cell_type": "code",
   "execution_count": 10,
   "id": "b5f6bb22",
   "metadata": {},
   "outputs": [
    {
     "name": "stdout",
     "output_type": "stream",
     "text": [
      "1\n",
      "2\n",
      "3\n",
      "4\n",
      "6\n",
      "7\n",
      "8\n",
      "9\n",
      "10\n",
      "11\n"
     ]
    }
   ],
   "source": [
    "#example:\n",
    "x=0\n",
    "while x<=10:\n",
    "    x=x+1\n",
    "    if x==5:\n",
    "        continue\n",
    "    print(x)"
   ]
  },
  {
   "cell_type": "markdown",
   "id": "f73b9a1d",
   "metadata": {},
   "source": [
    "#### pass statement:\n",
    "- def: when the user does not know what code to write\n"
   ]
  },
  {
   "cell_type": "code",
   "execution_count": 12,
   "id": "a1a6e93a",
   "metadata": {},
   "outputs": [],
   "source": [
    "#exampl:pass statement can be used in empty function\n",
    "def square_lst():\n",
    "    pass\n",
    "    \n"
   ]
  },
  {
   "cell_type": "code",
   "execution_count": null,
   "id": "9f181de8",
   "metadata": {},
   "outputs": [],
   "source": []
  },
  {
   "cell_type": "code",
   "execution_count": null,
   "id": "7c626b34",
   "metadata": {},
   "outputs": [],
   "source": []
  },
  {
   "cell_type": "code",
   "execution_count": null,
   "id": "dedbe165",
   "metadata": {},
   "outputs": [],
   "source": []
  },
  {
   "cell_type": "code",
   "execution_count": null,
   "id": "dc9eaf8e",
   "metadata": {},
   "outputs": [],
   "source": []
  },
  {
   "cell_type": "code",
   "execution_count": null,
   "id": "6ceb323b",
   "metadata": {},
   "outputs": [],
   "source": []
  },
  {
   "cell_type": "code",
   "execution_count": null,
   "id": "b30127d4",
   "metadata": {},
   "outputs": [],
   "source": []
  },
  {
   "cell_type": "code",
   "execution_count": null,
   "id": "96f6161f",
   "metadata": {},
   "outputs": [],
   "source": []
  },
  {
   "cell_type": "code",
   "execution_count": null,
   "id": "e6cfff97",
   "metadata": {},
   "outputs": [],
   "source": []
  }
 ],
 "metadata": {
  "kernelspec": {
   "display_name": "Python 3",
   "language": "python",
   "name": "python3"
  },
  "language_info": {
   "codemirror_mode": {
    "name": "ipython",
    "version": 3
   },
   "file_extension": ".py",
   "mimetype": "text/x-python",
   "name": "python",
   "nbconvert_exporter": "python",
   "pygments_lexer": "ipython3",
   "version": "3.8.8"
  }
 },
 "nbformat": 4,
 "nbformat_minor": 5
}
