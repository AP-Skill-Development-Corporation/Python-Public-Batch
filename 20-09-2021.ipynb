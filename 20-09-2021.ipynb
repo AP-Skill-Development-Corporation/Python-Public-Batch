{
 "cells": [
  {
   "cell_type": "markdown",
   "metadata": {},
   "source": [
    "# Functions\n",
    "- function is a black of code\n",
    "- group of statements to perform a particular task\n",
    "- esay debuging\n",
    "- code resuabulity\n",
    "- syntax:\n",
    "\n",
    "        - def functionname(arguments):\n",
    "        -  statements\n",
    "        - functionname(parameters)\n",
    " - bultin functions\n",
    " - user define functions\n",
    " "
   ]
  },
  {
   "cell_type": "code",
   "execution_count": null,
   "metadata": {},
   "outputs": [],
   "source": [
    "# builtin functions\n",
    "# inbuilt functions are defined as the function \n",
    "print(),range(),len(),input(),max(),min(),abs(),sum()str(),ord()"
   ]
  },
  {
   "cell_type": "code",
   "execution_count": 1,
   "metadata": {},
   "outputs": [
    {
     "name": "stdout",
     "output_type": "stream",
     "text": [
      "6\n"
     ]
    }
   ],
   "source": [
    "a=\"python\"\n",
    "print(len(a))"
   ]
  },
  {
   "cell_type": "markdown",
   "metadata": {},
   "source": [
    "# user define functions\n",
    "- with arguments with return\n",
    "- with atrguments without return\n",
    "- without arguments with return\n",
    "- without arguments without return"
   ]
  },
  {
   "cell_type": "code",
   "execution_count": 2,
   "metadata": {},
   "outputs": [
    {
     "data": {
      "text/plain": [
       "30"
      ]
     },
     "execution_count": 2,
     "metadata": {},
     "output_type": "execute_result"
    }
   ],
   "source": [
    "# with arguments with return\n",
    "a=10\n",
    "b=20\n",
    "def add(a,b):\n",
    "    return a+b\n",
    "add(a,b)"
   ]
  },
  {
   "cell_type": "code",
   "execution_count": 3,
   "metadata": {},
   "outputs": [
    {
     "name": "stdout",
     "output_type": "stream",
     "text": [
      "-20\n"
     ]
    }
   ],
   "source": [
    "# with arguments without return\n",
    "a=10\n",
    "b=30\n",
    "def sub(a,b):\n",
    "    print(a-b)\n",
    "sub(a,b)\n"
   ]
  },
  {
   "cell_type": "code",
   "execution_count": 4,
   "metadata": {},
   "outputs": [
    {
     "data": {
      "text/plain": [
       "400"
      ]
     },
     "execution_count": 4,
     "metadata": {},
     "output_type": "execute_result"
    }
   ],
   "source": [
    "# without arguments with return\n",
    "def mul():\n",
    "    a=10\n",
    "    b=40\n",
    "    return a*b\n",
    "mul()"
   ]
  },
  {
   "cell_type": "code",
   "execution_count": 5,
   "metadata": {},
   "outputs": [],
   "source": [
    "# without arguments without return\n",
    "def add():#fun definition\n",
    "    a=20\n",
    "    b=30\n",
    "    print(a+b)"
   ]
  },
  {
   "cell_type": "code",
   "execution_count": 6,
   "metadata": {},
   "outputs": [
    {
     "name": "stdout",
     "output_type": "stream",
     "text": [
      "50\n"
     ]
    }
   ],
   "source": [
    "add()#fun calling"
   ]
  },
  {
   "cell_type": "markdown",
   "metadata": {},
   "source": [
    "# based on arguments\n",
    "\n",
    "- reuired arguments\n",
    "- keyword arguments\n",
    "- default argumets\n",
    "- variable length arguments"
   ]
  },
  {
   "cell_type": "code",
   "execution_count": 10,
   "metadata": {},
   "outputs": [
    {
     "name": "stdout",
     "output_type": "stream",
     "text": [
      "70 40\n"
     ]
    }
   ],
   "source": [
    "# reuired arguments\n",
    "# no of arguments should be same in both function call and fun definition\n",
    "# it also order or position should be follow\n",
    "def add(x,y):\n",
    "    print(x,y)\n",
    "add(70,40)"
   ]
  },
  {
   "cell_type": "code",
   "execution_count": 11,
   "metadata": {},
   "outputs": [
    {
     "name": "stdout",
     "output_type": "stream",
     "text": [
      "10 20\n"
     ]
    }
   ],
   "source": [
    "# keyword arguments\n",
    "# order/position not reuired\n",
    "#initilization will be done based on keyword(name)\n",
    "def add(a,b):\n",
    "    print(a,b)\n",
    "add(b=20,a=10)"
   ]
  },
  {
   "cell_type": "code",
   "execution_count": 12,
   "metadata": {},
   "outputs": [
    {
     "name": "stdout",
     "output_type": "stream",
     "text": [
      "abc\n",
      "mba\n",
      "asd\n",
      "b.tech\n"
     ]
    }
   ],
   "source": [
    "# default arguments\n",
    "# same arguments will be consider default arguments\n",
    "def add(name,course=\"b.tech\"):\n",
    "    print(name)\n",
    "    print(course)\n",
    "add(name=\"abc\",course=\"mba\")\n",
    "add(name=\"asd\")"
   ]
  },
  {
   "cell_type": "code",
   "execution_count": 13,
   "metadata": {},
   "outputs": [
    {
     "name": "stdout",
     "output_type": "stream",
     "text": [
      "b.tech\n",
      "m.tech\n",
      "mca\n",
      "mba\n"
     ]
    }
   ],
   "source": [
    "# variable length arguments\n",
    "# it will accept arbitary on of argumets\n",
    "# by passing as prefix t the argumennt of fun definition\n",
    "def add(*courses):\n",
    "    for i in courses:\n",
    "        print(i)\n",
    "add(\"b.tech\",\"m.tech\",\"mca\",\"mba\")"
   ]
  },
  {
   "cell_type": "code",
   "execution_count": 15,
   "metadata": {},
   "outputs": [
    {
     "name": "stdout",
     "output_type": "stream",
     "text": [
      "enter the value:21\n"
     ]
    },
    {
     "data": {
      "text/plain": [
       "'odd'"
      ]
     },
     "execution_count": 15,
     "metadata": {},
     "output_type": "execute_result"
    }
   ],
   "source": [
    "def evenodd(n):\n",
    "    if n%2==0:\n",
    "        return \"even\"\n",
    "    else:\n",
    "        return \"odd\"\n",
    "n=int(input(\"enter the value:\"))\n",
    "evenodd(n)"
   ]
  },
  {
   "cell_type": "code",
   "execution_count": 21,
   "metadata": {},
   "outputs": [
    {
     "name": "stdout",
     "output_type": "stream",
     "text": [
      "eter the value:madam\n"
     ]
    },
    {
     "data": {
      "text/plain": [
       "'palindrome'"
      ]
     },
     "execution_count": 21,
     "metadata": {},
     "output_type": "execute_result"
    }
   ],
   "source": [
    "def palindrome(s):\n",
    "    if s==s[::-1]:\n",
    "        return \"palindrome\"\n",
    "    else:\n",
    "        return \"not palindrome\"\n",
    "s=input(\"eter the value:\")\n",
    "palindrome(s)"
   ]
  },
  {
   "cell_type": "code",
   "execution_count": 25,
   "metadata": {},
   "outputs": [
    {
     "name": "stdout",
     "output_type": "stream",
     "text": [
      "avaage: 10.5\n"
     ]
    }
   ],
   "source": [
    "def avarage():\n",
    "    s=0\n",
    "    count=0\n",
    "    for i in range(1,21):\n",
    "        s=s+i\n",
    "        count=count+1\n",
    "    print(\"avaage:\",s/count)\n",
    "avarage()\n",
    "        "
   ]
  },
  {
   "cell_type": "code",
   "execution_count": 28,
   "metadata": {},
   "outputs": [
    {
     "data": {
      "text/plain": [
       "362880"
      ]
     },
     "execution_count": 28,
     "metadata": {},
     "output_type": "execute_result"
    }
   ],
   "source": [
    "def factorial(n):\n",
    "    fact=1\n",
    "    for i in range(1,n+1):\n",
    "        fact=fact*i\n",
    "    return fact\n",
    "factorial(9)"
   ]
  },
  {
   "cell_type": "code",
   "execution_count": 35,
   "metadata": {},
   "outputs": [
    {
     "name": "stdout",
     "output_type": "stream",
     "text": [
      "enter a number5\n",
      "b\n"
     ]
    }
   ],
   "source": [
    "# input number \n",
    "# given number is prime next add two to that then again\n",
    "# check if it is prime or not\n",
    "#5->c-5+2=7->b x=a\n",
    "              # x=b\n",
    "              # x=c\n",
    "def isprime(n):# n=5\n",
    "    count=0 # count=2\n",
    "    for i in range(1,n+1):#i=5\n",
    "        if n%i==0: #5%5==0\n",
    "            count+=1\n",
    "    if count==2:\n",
    "        return True\n",
    "    return False\n",
    "n=int(input(\"enter a number\"))\n",
    "x='c'\n",
    "if isprime(n):\n",
    "    x='a'\n",
    "    if isprime(n+2):\n",
    "        x='b'\n",
    "print(x)"
   ]
  },
  {
   "cell_type": "code",
   "execution_count": null,
   "metadata": {},
   "outputs": [],
   "source": []
  }
 ],
 "metadata": {
  "kernelspec": {
   "display_name": "Python 3",
   "language": "python",
   "name": "python3"
  },
  "language_info": {
   "codemirror_mode": {
    "name": "ipython",
    "version": 3
   },
   "file_extension": ".py",
   "mimetype": "text/x-python",
   "name": "python",
   "nbconvert_exporter": "python",
   "pygments_lexer": "ipython3",
   "version": "3.7.4"
  }
 },
 "nbformat": 4,
 "nbformat_minor": 2
}
