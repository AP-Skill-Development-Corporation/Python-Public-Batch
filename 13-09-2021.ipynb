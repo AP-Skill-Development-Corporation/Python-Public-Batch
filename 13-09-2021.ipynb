{
 "cells": [
  {
   "cell_type": "markdown",
   "metadata": {},
   "source": [
    "# day1"
   ]
  },
  {
   "cell_type": "code",
   "execution_count": 2,
   "metadata": {},
   "outputs": [
    {
     "name": "stdout",
     "output_type": "stream",
     "text": [
      "hello all\n"
     ]
    }
   ],
   "source": [
    "print(\"hello all\")"
   ]
  },
  {
   "cell_type": "markdown",
   "metadata": {},
   "source": [
    "# heading\n",
    "## heading\n",
    "### heading\n",
    "#### heading"
   ]
  },
  {
   "cell_type": "markdown",
   "metadata": {},
   "source": [
    "- order of prepering notes\n",
    "  - introduction\n",
    "    + heading\n",
    "     - sub heading\n",
    "           - paragraph"
   ]
  },
  {
   "cell_type": "markdown",
   "metadata": {},
   "source": [
    "# python\n",
    "- its a general purpose,high level and interpreted language\n",
    "- high level programming language\n",
    "  - a language which is understandable by the user\n",
    "  - E: c,c++,java,oracle,python etc...\n",
    "- interpreted language\n",
    " - it gives the line by line exicution\n",
    "- Geeral purpose\n",
    "  - used for multiple purposes in realtme\n",
    "  - web development,system s/w,application s/w,scientific computation\n",
    "- role of python\n",
    "  - it is the building block of all the current technologies like artificial intelligence,machine leaning ,data science,robostics, iot etc...\n",
    "- it is simple to learn and easy to code"
   ]
  },
  {
   "cell_type": "markdown",
   "metadata": {},
   "source": [
    "# literating programming\n",
    " - programming along with documentation"
   ]
  },
  {
   "cell_type": "markdown",
   "metadata": {},
   "source": [
    "*i am italic* text\n",
    "**bold text**\n",
    "*** italic bold text***"
   ]
  },
  {
   "cell_type": "markdown",
   "metadata": {},
   "source": [
    "*i am italic*\n",
    "**bolt text**"
   ]
  },
  {
   "cell_type": "markdown",
   "metadata": {},
   "source": [
    "### creating tables:\n",
    "\n",
    "|name|age|marks|\n",
    "|-----|---|----|\n",
    "|anu|23|90|\n",
    "|lucky|23|95|"
   ]
  },
  {
   "cell_type": "markdown",
   "metadata": {},
   "source": [
    "### creating a block quotes:\n",
    ">  python programming\n",
    ">>  markdown format\n",
    ">>>  introdution"
   ]
  },
  {
   "cell_type": "markdown",
   "metadata": {},
   "source": [
    "### image insering:\n",
    "[Jupytor Logo](JupyterLogo.png)\n",
    "\n",
    "<img src=\"JupyterLogo.png\" style=\"float:left\">"
   ]
  },
  {
   "cell_type": "code",
   "execution_count": null,
   "metadata": {},
   "outputs": [],
   "source": []
  }
 ],
 "metadata": {
  "kernelspec": {
   "display_name": "Python 3",
   "language": "python",
   "name": "python3"
  },
  "language_info": {
   "codemirror_mode": {
    "name": "ipython",
    "version": 3
   },
   "file_extension": ".py",
   "mimetype": "text/x-python",
   "name": "python",
   "nbconvert_exporter": "python",
   "pygments_lexer": "ipython3",
   "version": "3.7.4"
  }
 },
 "nbformat": 4,
 "nbformat_minor": 2
}
